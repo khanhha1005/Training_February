{
 "cells": [
  {
   "cell_type": "code",
   "execution_count": 3,
   "metadata": {},
   "outputs": [
    {
     "name": "stdout",
     "output_type": "stream",
     "text": [
      "/Users/trancatkhanh/Downloads/GAME\n"
     ]
    }
   ],
   "source": [
    "%cd /Users/trancatkhanh/Downloads/GAME\n",
    "from base.Splendor_v3.env import *"
   ]
  },
  {
   "cell_type": "code",
   "execution_count": 15,
   "metadata": {},
   "outputs": [],
   "source": [
    "num_game = 100000"
   ]
  },
  {
   "cell_type": "code",
   "execution_count": 2,
   "metadata": {},
   "outputs": [],
   "source": [
    "from numba import njit\n",
    "from numba.typed import List\n",
    "import numba\n",
    "import numpy as np"
   ]
  },
  {
   "cell_type": "code",
   "execution_count": 17,
   "metadata": {},
   "outputs": [],
   "source": [
    "@njit\n",
    "def toNumpy(a):\n",
    "    lst = np.zeros((len(a),getStateSize()))\n",
    "    for i in range(len(a)):\n",
    "        lst[i] = a[i]\n",
    "    return lst"
   ]
  },
  {
   "cell_type": "code",
   "execution_count": 18,
   "metadata": {},
   "outputs": [],
   "source": [
    "@njit\n",
    "def agentPolicy(state,per):\n",
    "    list_action = getValidActions(state)\n",
    "    list_action*=per[1]\n",
    "    action = np.argmax(list_action)\n",
    "    return action,per\n",
    "\n",
    "@njit\n",
    "def agentPolicy2(state,per):\n",
    "    list_action = getValidActions(state)\n",
    "    if np.sum(per[3]==state) > np.sum(per[4]==state):\n",
    "        list_action*=per[2]\n",
    "    else:\n",
    "        list_action*=per[1]\n",
    "    action = np.argmax(list_action)\n",
    "    return action,per\n",
    "\n"
   ]
  },
  {
   "cell_type": "code",
   "execution_count": 19,
   "metadata": {},
   "outputs": [],
   "source": [
    "@njit\n",
    "def agentPolicyBest(state,per):\n",
    "    list_action = getValidActions(state)\n",
    "    list_action*=per[0]\n",
    "    action = np.argmax(list_action)\n",
    "    return action,per\n",
    "\n",
    "@njit\n",
    "def agentPolicyBest2(state,per):\n",
    "    list_action = getValidActions(state)\n",
    "    if np.sum(per[3]==state) > np.sum(per[4]==state):\n",
    "        list_action*=per[2]\n",
    "    else:\n",
    "        list_action*=per[0]\n",
    "    \n",
    "    action = np.argmax(list_action)\n",
    "    return action,per"
   ]
  },
  {
   "cell_type": "code",
   "execution_count": 20,
   "metadata": {},
   "outputs": [],
   "source": [
    "@njit\n",
    "def agentRandom(state,per):\n",
    "    return np.random.choice(np.where(getValidActions(state)==1)[0]),per"
   ]
  },
  {
   "cell_type": "code",
   "execution_count": 21,
   "metadata": {},
   "outputs": [],
   "source": [
    "@njit\n",
    "def agentX(state,per):\n",
    "    if per[7][0][0][0]==0:#step 1,2\n",
    "        list_action = getValidActions(state)\n",
    "        list_action*=per[0][0][0]\n",
    "        action = np.argmax(list_action)\n",
    "        if getReward(state)!=-1:\n",
    "            per[2][0][0][0]+=1\n",
    "            if getReward(state)==1:\n",
    "                per[1][0][0]+=per[0][0][0]\n",
    "                per[4][0][0][0]+=1\n",
    "            else:\n",
    "                per[0][0][0] = np.random.rand(getActionSize())\n",
    "            if per[2][0][0][0]%num_game==0:\n",
    "                per_test = [per[3][0][0],per[1][0][0]]#best, current\n",
    "                rank = numba_main(agentPolicyBest,agentPolicy,agentRandom,agentRandom,10000,per_test)[0]\n",
    "                per[4][0][0][0] = rank[1]\n",
    "                per[5][0][0][0] = rank[0]\n",
    "                if per[4][0][0][0]>per[5][0][0][0]:\n",
    "                    per[3][0][0] = per[1][0][0]\n",
    "                    per[6][0][0][0] = 0\n",
    "                else:\n",
    "                    per[6][0][0][0]+=1\n",
    "                per[1][0][0] = np.zeros(getActionSize())\n",
    "            if per[6][0][0][0]==3:\n",
    "                per[7][0][0][0] = 1 #go to step 3\n",
    "                print('Step 1,2 completed!')\n",
    "    elif per[7][0][0][0]==1:#step 3\n",
    "        list_action = getValidActions(state)\n",
    "        list_action*=per[3][0][0]\n",
    "        action = np.argmax(list_action)\n",
    "        per[10].append(state.reshape(1,-1))\n",
    "        if len(per[8])<50000 and len(per[9]) < 50000:\n",
    "            if getReward(state)==1:\n",
    "                for i in per[10]:\n",
    "                    per[8].append(i)\n",
    "                per[10].clear()\n",
    "            if getReward(state)==0:\n",
    "                for i in per[10]:\n",
    "                    per[9].append(i)\n",
    "                per[10].clear()\n",
    "        else:# find (x) property in state win and loss\n",
    "            print('Step 3 completed!')\n",
    "            per[7][0][0][0] = 2\n",
    "            state_win = toNumpy(per[8])\n",
    "            state_loss = toNumpy(per[9])\n",
    "            win_id = np.zeros(getStateSize())\n",
    "            loss_id = np.zeros(getStateSize())\n",
    "            state_win1 = state_win.T\n",
    "            for i in range(getStateSize()):\n",
    "                uni = np.unique(state_win1[i])\n",
    "                max_count = -1000\n",
    "                for j in uni:\n",
    "                    count1 = np.sum(state_win1[i]==j)\n",
    "                    if count1 > max_count:\n",
    "                        max_count = count1\n",
    "                        win_id[i] = j\n",
    "            state_loss1 = state_loss.T\n",
    "            for i in range(getStateSize()):\n",
    "                uni = np.unique(state_loss1[i])\n",
    "                max_count = -1000\n",
    "                for j in uni:\n",
    "                    count1 = np.sum(state_loss1[i]==j)\n",
    "                    if count1 > max_count:\n",
    "                        max_count = count1\n",
    "                        loss_id[i] = j\n",
    "            per[11][0][0] = win_id\n",
    "            per[12][0][0] = loss_id\n",
    "    else: #step 5,6\n",
    "        list_action = getValidActions(state)\n",
    "        if np.sum(per[11][0][0]==state) > np.sum(per[12][0][0]==state):\n",
    "            list_action*=per[3][0][0]\n",
    "        else:\n",
    "            list_action*=per[0][0][0]\n",
    "        action = np.argmax(list_action)\n",
    "        if getReward(state)!=-1:\n",
    "            per[2][0][0][0]+=1\n",
    "            if getReward(state)==1:\n",
    "                per[1][0][0]+=per[0][0][0]\n",
    "                per[4][0][0][0]+=1\n",
    "            else:\n",
    "                per[0][0][0] = np.random.rand(getActionSize())\n",
    "            if per[2][0][0][0]%num_game==0:\n",
    "                per_test = [per[13][0][0],per[1][0][0],per[3][0][0],per[11][0][0],per[12][0][0]]#best, current, best123, win_fre, loss_fre\n",
    "                rank = numba_main(agentPolicyBest2,agentPolicy2,agentRandom,agentRandom,10000,per_test)[0]\n",
    "                per[4][0][0][0] = rank[1]\n",
    "                per[5][0][0][0] = rank[0]\n",
    "                if per[4][0][0][0]>per[5][0][0][0]:\n",
    "                    per[13][0][0] = per[1][0][0]\n",
    "                    per[14][0][0][0] = 0\n",
    "                else:\n",
    "                    per[14][0][0][0]+=1\n",
    "                per[1][0][0] = np.zeros(getActionSize())\n",
    "            if per[14][0][0][0]==3:\n",
    "                raise Exception('Training Completed! Per Saved!')\n",
    "\n",
    "\n",
    "\n",
    "\n",
    "        \n",
    "\n",
    "    return action,per"
   ]
  },
  {
   "cell_type": "code",
   "execution_count": 4,
   "metadata": {},
   "outputs": [],
   "source": [
    "perx = [List([np.random.rand(1,getActionSize())]), #random bias\n",
    "        List([np.zeros((1,getActionSize()))]), #policy all current 100k game\n",
    "        List([np.zeros((1,1))]), #game count\n",
    "        List([np.zeros((1,getActionSize()))]),#best policy so far\n",
    "        List([np.zeros((1,1))]), #win count\n",
    "        List([np.zeros((1,1))]), #best win rate count\n",
    "        List([np.zeros((1,1))]), #check if 3 next best bias is weaker\n",
    "        List([np.zeros((1,1))]), #mode\n",
    "        List.empty_list(numba.types.Array(dtype=numba.float64,ndim=2,layout='C')),#state win\n",
    "        List.empty_list(numba.types.Array(dtype=numba.float64,ndim=2,layout='C')),#state lose\n",
    "        List.empty_list(numba.types.Array(dtype=numba.float64,ndim=2,layout='C')), #state one game\n",
    "        List([np.zeros((1,getStateSize()))]), # most frequent win state\n",
    "        List([np.zeros((1,getStateSize()))]), #most frequent lose state\n",
    "        List([np.zeros((1,getActionSize()))]), #best policy so far step 4,5,6\n",
    "        List([np.zeros((1,1))])] #check if 3 training completed\n",
    "        \n",
    "        \n"
   ]
  },
  {
   "cell_type": "code",
   "execution_count": 7,
   "metadata": {},
   "outputs": [
    {
     "data": {
      "text/plain": [
       "array([0.03552749, 0.31564942, 0.56819383, 0.61240635, 0.55556295,\n",
       "       0.49831801, 0.13699566, 0.27107561, 0.79464359, 0.67033525,\n",
       "       0.96816143, 0.71792136, 0.34276623, 0.41046133, 0.40800011])"
      ]
     },
     "execution_count": 7,
     "metadata": {},
     "output_type": "execute_result"
    }
   ],
   "source": [
    "perx[0][0][0]"
   ]
  },
  {
   "cell_type": "code",
   "execution_count": 23,
   "metadata": {},
   "outputs": [
    {
     "name": "stdout",
     "output_type": "stream",
     "text": [
      "Step 1,2 completed!\n",
      "Step 3 completed!\n"
     ]
    },
    {
     "ename": "Exception",
     "evalue": "Training Completed! Per Saved!",
     "output_type": "error",
     "traceback": [
      "\u001b[1;31m---------------------------------------------------------------------------\u001b[0m",
      "\u001b[1;31mException\u001b[0m                                 Traceback (most recent call last)",
      "\u001b[1;32m~\\AppData\\Local\\Temp/ipykernel_13972/3559472651.py\u001b[0m in \u001b[0;36m<module>\u001b[1;34m\u001b[0m\n\u001b[1;32m----> 1\u001b[1;33m \u001b[0mnumba_main_2\u001b[0m\u001b[1;33m(\u001b[0m\u001b[0magentX\u001b[0m\u001b[1;33m,\u001b[0m\u001b[1;36m1000000\u001b[0m\u001b[1;33m,\u001b[0m\u001b[0mperx\u001b[0m\u001b[1;33m,\u001b[0m\u001b[1;36m0\u001b[0m\u001b[1;33m)\u001b[0m\u001b[1;33m[\u001b[0m\u001b[1;36m0\u001b[0m\u001b[1;33m]\u001b[0m\u001b[1;33m\u001b[0m\u001b[1;33m\u001b[0m\u001b[0m\n\u001b[0m",
      "\u001b[1;32mc:\\Users\\vodin\\OneDrive - Hanoi University of Science and Technology\\Documents\\GAME\\tháng 2\\base\\Splendor_v3\\env.py\u001b[0m in \u001b[0;36mnumba_main_2\u001b[1;34m(p0, n_game, per_player, level)\u001b[0m\n\u001b[0;32m    663\u001b[0m \u001b[1;33m\u001b[0m\u001b[0m\n\u001b[0;32m    664\u001b[0m \u001b[1;32mdef\u001b[0m \u001b[0mnumba_main_2\u001b[0m\u001b[1;33m(\u001b[0m\u001b[0mp0\u001b[0m\u001b[1;33m,\u001b[0m \u001b[0mn_game\u001b[0m\u001b[1;33m,\u001b[0m \u001b[0mper_player\u001b[0m\u001b[1;33m,\u001b[0m \u001b[0mlevel\u001b[0m\u001b[1;33m)\u001b[0m\u001b[1;33m:\u001b[0m\u001b[1;33m\u001b[0m\u001b[1;33m\u001b[0m\u001b[0m\n\u001b[1;32m--> 665\u001b[1;33m     \u001b[1;32mreturn\u001b[0m \u001b[0mn_game_numba\u001b[0m\u001b[1;33m(\u001b[0m\u001b[0mp0\u001b[0m\u001b[1;33m,\u001b[0m \u001b[0mn_game\u001b[0m\u001b[1;33m,\u001b[0m \u001b[0mper_player\u001b[0m\u001b[1;33m,\u001b[0m \u001b[0mlevel\u001b[0m\u001b[1;33m)\u001b[0m\u001b[1;33m\u001b[0m\u001b[1;33m\u001b[0m\u001b[0m\n\u001b[0m\u001b[0;32m    666\u001b[0m \u001b[1;33m\u001b[0m\u001b[0m\n\u001b[0;32m    667\u001b[0m \u001b[1;33m\u001b[0m\u001b[0m\n",
      "\u001b[1;32m~\\AppData\\Local\\Temp/ipykernel_13972/4258429606.py\u001b[0m in \u001b[0;36magentX\u001b[1;34m()\u001b[0m\n\u001b[0;32m     93\u001b[0m                 \u001b[0mper\u001b[0m\u001b[1;33m[\u001b[0m\u001b[1;36m1\u001b[0m\u001b[1;33m]\u001b[0m\u001b[1;33m[\u001b[0m\u001b[1;36m0\u001b[0m\u001b[1;33m]\u001b[0m\u001b[1;33m[\u001b[0m\u001b[1;36m0\u001b[0m\u001b[1;33m]\u001b[0m \u001b[1;33m=\u001b[0m \u001b[0mnp\u001b[0m\u001b[1;33m.\u001b[0m\u001b[0mzeros\u001b[0m\u001b[1;33m(\u001b[0m\u001b[0mgetActionSize\u001b[0m\u001b[1;33m(\u001b[0m\u001b[1;33m)\u001b[0m\u001b[1;33m)\u001b[0m\u001b[1;33m\u001b[0m\u001b[1;33m\u001b[0m\u001b[0m\n\u001b[0;32m     94\u001b[0m             \u001b[1;32mif\u001b[0m \u001b[0mper\u001b[0m\u001b[1;33m[\u001b[0m\u001b[1;36m14\u001b[0m\u001b[1;33m]\u001b[0m\u001b[1;33m[\u001b[0m\u001b[1;36m0\u001b[0m\u001b[1;33m]\u001b[0m\u001b[1;33m[\u001b[0m\u001b[1;36m0\u001b[0m\u001b[1;33m]\u001b[0m\u001b[1;33m[\u001b[0m\u001b[1;36m0\u001b[0m\u001b[1;33m]\u001b[0m\u001b[1;33m==\u001b[0m\u001b[1;36m3\u001b[0m\u001b[1;33m:\u001b[0m\u001b[1;33m\u001b[0m\u001b[1;33m\u001b[0m\u001b[0m\n\u001b[1;32m---> 95\u001b[1;33m                 \u001b[1;32mraise\u001b[0m \u001b[0mException\u001b[0m\u001b[1;33m(\u001b[0m\u001b[1;34m'Training Completed! Per Saved!'\u001b[0m\u001b[1;33m)\u001b[0m\u001b[1;33m\u001b[0m\u001b[1;33m\u001b[0m\u001b[0m\n\u001b[0m\u001b[0;32m     96\u001b[0m \u001b[1;33m\u001b[0m\u001b[0m\n\u001b[0;32m     97\u001b[0m \u001b[1;33m\u001b[0m\u001b[0m\n",
      "\u001b[1;31mException\u001b[0m: Training Completed! Per Saved!"
     ]
    }
   ],
   "source": [
    "numba_main_2(agentX,10000000,perx,0)[0]"
   ]
  },
  {
   "cell_type": "code",
   "execution_count": 25,
   "metadata": {},
   "outputs": [
    {
     "data": {
      "text/plain": [
       "571"
      ]
     },
     "execution_count": 25,
     "metadata": {},
     "output_type": "execute_result"
    }
   ],
   "source": [
    "numba_main_2(agentPolicyBest2,1000,[perx[13][0][0],perx[1][0][0],perx[3][0][0],perx[11][0][0],perx[12][0][0]],0)[0]"
   ]
  },
  {
   "cell_type": "code",
   "execution_count": null,
   "metadata": {},
   "outputs": [],
   "source": []
  }
 ],
 "metadata": {
  "kernelspec": {
   "display_name": "Python 3",
   "language": "python",
   "name": "python3"
  },
  "language_info": {
   "codemirror_mode": {
    "name": "ipython",
    "version": 3
   },
   "file_extension": ".py",
   "mimetype": "text/x-python",
   "name": "python",
   "nbconvert_exporter": "python",
   "pygments_lexer": "ipython3",
   "version": "3.9.7"
  },
  "orig_nbformat": 4,
  "vscode": {
   "interpreter": {
    "hash": "aee8b7b246df8f9039afb4144a1f6fd8d2ca17a180786b69acc140d282b71a49"
   }
  }
 },
 "nbformat": 4,
 "nbformat_minor": 2
}
