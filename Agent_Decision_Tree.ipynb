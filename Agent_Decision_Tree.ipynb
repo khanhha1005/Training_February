{
 "cells": [
  {
   "cell_type": "code",
   "execution_count": 1,
   "metadata": {},
   "outputs": [
    {
     "name": "stdout",
     "output_type": "stream",
     "text": [
      "/Users/trancatkhanh/Downloads/GAME_2\n"
     ]
    }
   ],
   "source": [
    "%cd /Users/trancatkhanh/Downloads/GAME_2"
   ]
  },
  {
   "cell_type": "code",
   "execution_count": 3,
   "metadata": {},
   "outputs": [],
   "source": [
    "game_name = 'Splendor_v2'\n",
    "\n",
    "\n",
    "import numpy as np\n",
    "import random as rd\n",
    "from numba import njit, jit\n",
    "import sys, os\n",
    "from setup import SHOT_PATH\n",
    "import importlib.util\n",
    "import warnings \n",
    "warnings.filterwarnings('ignore')\n",
    "from numba.core.errors import NumbaDeprecationWarning, NumbaPendingDeprecationWarning,NumbaExperimentalFeatureWarning, NumbaWarning\n",
    "warnings.simplefilter('ignore', category=NumbaDeprecationWarning)\n",
    "warnings.simplefilter('ignore', category=NumbaPendingDeprecationWarning)\n",
    "warnings.simplefilter('ignore', category=NumbaExperimentalFeatureWarning)\n",
    "warnings.simplefilter('ignore', category=NumbaWarning)\n",
    "\n",
    "\n",
    "def setup_game(game_name):\n",
    "    spec = importlib.util.spec_from_file_location('env', f\"{SHOT_PATH}base/{game_name}/env.py\")\n",
    "    module = importlib.util.module_from_spec(spec)\n",
    "    sys.modules[spec.name] = module \n",
    "    spec.loader.exec_module(module)\n",
    "    return module\n",
    "\n",
    "sys.argv[1] = game_name\n",
    "env = setup_game(game_name)\n",
    "\n",
    "getActionSize = env.getActionSize\n",
    "getStateSize = env.getStateSize\n",
    "getAgentSize = env.getAgentSize\n",
    "\n",
    "getValidActions = env.getValidActions\n",
    "getReward = env.getReward\n",
    "\n",
    "normal_main = env.normal_main\n",
    "numba_main_2 = env.numba_main_2\n",
    "\n",
    "from numba.typed import List"
   ]
  },
  {
   "cell_type": "code",
   "execution_count": 4,
   "metadata": {},
   "outputs": [],
   "source": [
    "def DataAgent():\n",
    "    per = [np.array([np.random.rand(getActionSize()) for _ in range(1)]),np.zeros((1,getActionSize())),np.zeros((1,1)),np.array([np.random.rand(getActionSize()) for _ in range(1)]),np.zeros((1,2)),np.zeros((1,2)),np.zeros((1,1)),np.array([np.random.rand(getActionSize()) for _ in range(1)]),np.zeros((2000000,getStateSize())),np.zeros((2000000,1)),np.zeros((2000000,1)),np.zeros((1,1)),np.zeros((1,2))]\n",
    "                         #0                                                      #1                   #2              #3                                                            #4              #5               #6                #7                                                               #8                                   #9               #10                       #11           #12\n",
    "    return per\n",
    "#0 Array bias trong mỗi trận\n",
    "#1 Array bias sau 100k trận \n",
    "#2 Lưu số trận \n",
    "#3 lưu hệ số đã dùng \n",
    "#4 Tỷ lệ thắng khi đấu 10k trận \n",
    "#5 Trigger để train 100k trận \n",
    "#6 Đếm số lần yếu liên tiếp\n",
    "#7 Lưu array cho policy yếu \n",
    "#8 State của trận đấu\n",
    "#9 Action của trận đấu\n",
    "#10 Reward của trận đấu\n",
    "#11 Số trận lưu state\n",
    "#12 Trigger policy yếu\n",
    "\n"
   ]
  },
  {
   "attachments": {},
   "cell_type": "markdown",
   "metadata": {},
   "source": [
    "# Các hàm check tính chất của state\n"
   ]
  },
  {
   "cell_type": "code",
   "execution_count": 5,
   "metadata": {},
   "outputs": [],
   "source": [
    "import numpy as np\n",
    "@njit\n",
    "def check_min(state, reward):\n",
    "    just = np.zeros((2000000,2))\n",
    "    for i in range(len(reward)):\n",
    "        if reward[i] == -1:\n",
    "            for j in range(i,len(reward)):\n",
    "                if reward[j] != -1:\n",
    "                    reward[i] = reward[j]\n",
    "                    break\n",
    "    # replace -1 with 0\n",
    "    for i in range(len(reward)):\n",
    "        if reward[i] == -1:\n",
    "            reward[i] = 0\n",
    "    # np.mean each array in the state and the corresponding reward\n",
    "    for i in range(len(reward)):\n",
    "        just[i][0] = np.mean(state[i])\n",
    "        just[i][1] = (reward[i][0])\n",
    "    # count the number of times each value of the state appears and the reward of each value of the state\n",
    "    count = np.zeros((2000000,3))\n",
    "    for i in range(len(reward)):\n",
    "        for j in range(len(count)):\n",
    "            if just[i][0] == count[j][0]:\n",
    "                count[j][1] += 1\n",
    "                count[j][2] += just[i][1]\n",
    "                break\n",
    "            if count[j][0] == 0:\n",
    "                count[j][0] = just[i][0]\n",
    "                count[j][1] += 1\n",
    "                count[j][2] += just[i][1]\n",
    "                break\n",
    "    # find the index value the lowest rate of reward has the highest number of times appear\n",
    "    min = 0\n",
    "    for i in range(len(count)):\n",
    "        if count[i][1] > count[min][1]:\n",
    "            min = i\n",
    "    for i in range(len(count)):\n",
    "        if count[i][1] == count[min][1] and count[i][2] < count[min][2]:\n",
    "            min = i\n",
    "\n",
    "    return count[min][0]\n",
    "@njit\n",
    "def check_weaker(min,x):\n",
    "    if x == min:\n",
    "        return 1\n",
    "    else:\n",
    "        return 0\n"
   ]
  },
  {
   "attachments": {},
   "cell_type": "markdown",
   "metadata": {},
   "source": [
    "# Agent Hoàn Chỉnh"
   ]
  },
  {
   "cell_type": "code",
   "execution_count": 6,
   "metadata": {},
   "outputs": [],
   "source": [
    "@njit()\n",
    "def p_bias(state,per):\n",
    "    # Chuyển Mode gồm 3 mode mode 0 - train bias , mode 1 - test bias , mode 2 - train policy yếu ,mode 3 - test policy yếu,mode 4 - lưu state\n",
    "    if per[4][0][0] > per[5][0][1] and per[4][0][1] == 10000 and per[5][0][0] == 1:\n",
    "      per[3][0] = np.copy(per[1][0]/np.max(per[1][0]))\n",
    "      # Lưu lại kết quả thắng\n",
    "      per[5][0][1] = 0 \n",
    "      per[5][0][1] += (per[4][0][0])\n",
    "      # Rest số trận thắng và số trận đấu \n",
    "      per[4][0][0] = 0\n",
    "      per[4][0][1] = 0 \n",
    "      # Chuyển sang train bias\n",
    "      per[5][0][0] = 0 \n",
    "      per[2][0][0] = 0\n",
    "      per[1][0] = np.zeros((1,getActionSize()))\n",
    "      # Reset số lần yếu liên tiếp\n",
    "      per[6][0][0] = 0 \n",
    "    elif per[5][0][1] > per[4][0][0] and per[4][0][1] == 10000 and per[5][0][0] == 1:\n",
    "      per[6][0][0] +=1 \n",
    "      # Chuyển sang train bias\n",
    "      per[5][0][0] = 0 \n",
    "      per[2][0][0] = 0\n",
    "      per[1][0] = np.zeros((1,getActionSize()))\n",
    "      # Rest số trận thắng và số trận đấu \n",
    "      per[4][0][0] = 0\n",
    "      per[4][0][1] = 0 \n",
    "\n",
    "    # Bắt đầu mode lưu state\n",
    "    if per[6][0][0] == 3 and per[11][0][0] < 2000000 :\n",
    "      # Chuyển sang lưu state \n",
    "      per[5][0][0] = 4\n",
    "      per[2][0][0] = 0\n",
    "      # Rest số trận thắng và số trận đấu \n",
    "      per[4][0][1] = 0 \n",
    "      per[4][0][0] = 0\n",
    "      \n",
    "    # Hết mode lưu state chuyển sang train policy yếu\n",
    "    if per[5][0][0] == 4 and per[11][0][0] == 2000000:\n",
    "      per[5][0][0] = 2\n",
    "\n",
    "    # Bất đầu mode train và test policy yếu hơn\n",
    "    if per[11][0][0] == 2000000:\n",
    "      if per[4][0][0] > per[5][0][1] and per[4][0][1] == 10000 and per[5][0][0] == 3:\n",
    "        per[7][0] = np.copy(per[1][0]/np.max(per[1][0]))\n",
    "        # Lưu lại kết quả thắng\n",
    "        per[5][0][1] = 0 \n",
    "        per[5][0][1] += (per[4][0][0])\n",
    "        # Rest số trận thắng và số trận đấu \n",
    "        per[4][0][0] = 0\n",
    "        per[4][0][1] = 0 \n",
    "        # Chuyển sang train\n",
    "        per[5][0][0] = 2 \n",
    "        per[2][0][0] = 0\n",
    "        per[1][0] = np.zeros((1,getActionSize()))\n",
    "\n",
    "      elif per[5][0][1] > per[4][0][0] and per[4][0][1] == 10000 and per[5][0][0] == 3:\n",
    "        # Chuyển sang train\n",
    "        per[5][0][0] = 2 \n",
    "        per[2][0][0] = 0\n",
    "        per[1][0] = np.zeros((1,getActionSize()))\n",
    "        # Rest số trận thắng và số trận đấu \n",
    "        per[4][0][0] = 0\n",
    "        per[4][0][1] = 0 \n",
    "      \n",
    "    # reset per[1][0] sau 100k trận\n",
    "    if int(per[2][0][0]) == 100000 and per[11][0][0] < 2000000:\n",
    "      per[3][0] = np.copy(per[1][0]/np.max(per[1][0]))\n",
    "      per[2][0][0] = 0\n",
    "      per[5][0][0] = 1\n",
    "    # reset per[1][0] sau 10k trận\n",
    "    if int(per[2][0][0]) == 100000 and per[11][0][0] == 2000000:\n",
    "      per[7][0] = np.copy(per[1][0]/np.max(per[1][0]))\n",
    "      per[2][0][0] = 0\n",
    "      per[5][0][0] = 3\n",
    "      \n",
    "    if per[11][0][0] == 2000000 and per[12][0][0] == 0:\n",
    "      per[12][0][0] += check_min(per[8], per[10])\n",
    "\n",
    "    # Chế độ train bias\n",
    "    if int(per[2][0][0]) < 100000 and per[5][0][0] == 0  :\n",
    "      actions = getValidActions(state)\n",
    "      actions *= per[0][0]\n",
    "      action = np.argmax(actions)\n",
    "      if getReward(state) == 1 :\n",
    "          per[1] += per[0][0]\n",
    "      if getReward(state) == 0:\n",
    "          per[0][0] = np.random.rand(getActionSize())\n",
    "\n",
    "    # Chế độ test bias\n",
    "    elif int(per[2][0][0]) <10000  and per[5][0][0] == 1 : \n",
    "      list_action2 = getValidActions(state)\n",
    "      action = np.argmax(list_action2*per[3][0])    \n",
    "      if getReward(state) == 1:\n",
    "        per[4][0][0]+=1\n",
    "      if getReward(state) != -1:\n",
    "        per[4][0][1]+=1  \n",
    "\n",
    "    # Chế độ train policy yếu\n",
    "    elif int(per[2][0][0]) < 100000 and per[5][0][0] == 2 and per[11][0][0] == 2000000 :\n",
    "      actions = getValidActions(state)\n",
    "      # Check xem policy có yếu không \n",
    "      Check_yeu = check_weaker(per[12][0][0],np.mean(state))\n",
    "      if Check_yeu == 1:\n",
    "        per[12][0][1] = Check_yeu\n",
    "        actions *= per[0][0]\n",
    "        action = np.argmax(actions)\n",
    "      else:\n",
    "        actions *= per[3][0]\n",
    "        action = np.argmax(actions)\n",
    "      if getReward(state) == 1 and per[12][0][1] == 1:\n",
    "        per[1] += per[0][0]\n",
    "        per[12][0][1] = 0 \n",
    "      if getReward(state) == 0 and per[12][0][1] == 1:\n",
    "        per[0][0] = np.random.rand(getActionSize())\n",
    "        per[12][0][1] = 0 \n",
    "\n",
    "    # chế độ test policy yếu\n",
    "    elif int(per[2][0][0]) <10000 and  per[5][0][0] == 3 and per[11][0][0] == 2000000:\n",
    "      actions = getValidActions(state)\n",
    "      # Check xem policy có yếu không \n",
    "      if check_weaker(per[12][0][0],np.mean(state)) == 1:\n",
    "        actions *= per[7][0]\n",
    "        action = np.argmax(actions)\n",
    "      else:\n",
    "        actions *= per[3][0]\n",
    "        action = np.argmax(actions)\n",
    "      if getReward(state) == 1:\n",
    "        per[4][0][0]+=1\n",
    "      if getReward(state) != -1:\n",
    "        per[4][0][1]+=1  \n",
    "    \n",
    "\n",
    "    # Báo chuyển sang chế độ lưu state và action\n",
    "    if per[5][0][0] == 4 and per[11][0][0] < 2000000:\n",
    "      list_action2 = getValidActions(state)\n",
    "      action = np.argmax(list_action2*per[3][0]) \n",
    "\n",
    "\n",
    "    # Lưu state và action\n",
    "    if getReward(state) != -2 and per[11][0][0] < 2000000 and per[5][0][0] == 4:\n",
    "        for i in range(getStateSize()):\n",
    "          per[8][int(per[11][0][0])][i] += state[i]        \n",
    "        per[9][int(per[11][0][0])][0] += int(action)\n",
    "        per[10][int(per[11][0][0])][0] += int(getReward(state))\n",
    "        per[11][0][0] += 1\n",
    "\n",
    "    # đếm số ván đấu \n",
    "    if getReward(state) != -1 :\n",
    "        per[2][0][0] += 1\n",
    "    return action,per\n"
   ]
  },
  {
   "cell_type": "code",
   "execution_count": 7,
   "metadata": {},
   "outputs": [],
   "source": [
    "perx[11][0][0] = 0"
   ]
  },
  {
   "cell_type": "code",
   "execution_count": 8,
   "metadata": {},
   "outputs": [
    {
     "data": {
      "text/plain": [
       "array([[0.]])"
      ]
     },
     "execution_count": 8,
     "metadata": {},
     "output_type": "execute_result"
    }
   ],
   "source": [
    "perx[11]"
   ]
  },
  {
   "attachments": {},
   "cell_type": "markdown",
   "metadata": {},
   "source": [
    "# Test lại tỷ lệ thắng của level 1 game MachiKoro"
   ]
  },
  {
   "attachments": {},
   "cell_type": "markdown",
   "metadata": {},
   "source": [
    "**Khi chưa khắc phục policy yếu :24551** \n",
    "\n",
    "\n",
    "**Khi đã khắc phục policy yếu :27961**"
   ]
  },
  {
   "cell_type": "code",
   "execution_count": 7,
   "metadata": {},
   "outputs": [],
   "source": [
    "@njit()\n",
    "def test(state,per):\n",
    "    actions = getValidActions(state)\n",
    "    # Check xem policy có yếu không \n",
    "    if check_weaker(per[12][0][0],np.mean(state)) == 1:\n",
    "      actions *= per[7][0]\n",
    "      action = np.argmax(actions)\n",
    "    else:\n",
    "      actions *= per[3][0]\n",
    "      action = np.argmax(actions)\n",
    "    return action,per"
   ]
  },
  {
   "cell_type": "code",
   "execution_count": 8,
   "metadata": {},
   "outputs": [],
   "source": [
    "#lv0\n",
    "import time\n",
    "\n",
    "a = time.time()\n",
    "per = DataAgent()\n",
    "win, per = numba_main_2(p_bias, 10000, per, 0)\n",
    "print('train', win)\n",
    "\n",
    "win, per = numba_main_2(test, 10000, per, 0)\n",
    "b = time.time()\n",
    "print('test', win, b - a)"
   ]
  },
  {
   "cell_type": "code",
   "execution_count": null,
   "metadata": {},
   "outputs": [
    {
     "data": {
      "text/plain": [
       "array([[1.],\n",
       "       [1.]])"
      ]
     },
     "execution_count": 21,
     "metadata": {},
     "output_type": "execute_result"
    }
   ],
   "source": [
    "#Lv1\n",
    "win, per = numba_main_2(test, 10000, per, 1)\n",
    "win"
   ]
  }
 ],
 "metadata": {
  "kernelspec": {
   "display_name": "base",
   "language": "python",
   "name": "python3"
  },
  "language_info": {
   "codemirror_mode": {
    "name": "ipython",
    "version": 3
   },
   "file_extension": ".py",
   "mimetype": "text/x-python",
   "name": "python",
   "nbconvert_exporter": "python",
   "pygments_lexer": "ipython3",
   "version": "3.9.7"
  },
  "orig_nbformat": 4,
  "vscode": {
   "interpreter": {
    "hash": "ff2136a0fe6bc790f1b40d257e6b1bba23119827483ea2b7c12c8cc23c661a47"
   }
  }
 },
 "nbformat": 4,
 "nbformat_minor": 2
}
