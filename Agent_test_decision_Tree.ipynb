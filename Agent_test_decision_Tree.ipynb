{
 "cells": [
  {
   "cell_type": "code",
   "execution_count": 82,
   "metadata": {},
   "outputs": [
    {
     "name": "stdout",
     "output_type": "stream",
     "text": [
      "/Users/trancatkhanh/Downloads/GAME\n"
     ]
    }
   ],
   "source": [
    "%cd /Users/trancatkhanh/Downloads/GAME"
   ]
  },
  {
   "cell_type": "code",
   "execution_count": 83,
   "metadata": {},
   "outputs": [],
   "source": [
    "import numpy as np\n",
    "from base.MachiKoro.env import *\n",
    "#0 Array bias trong mỗi trận\n",
    "#1 Array bias sau 10000k trận \n",
    "#2 Lưu số trận \n",
    "#3 lưu hệ số đã dùng \n",
    "#4 Tỷ lệ thắng khi đấu 10k trận \n",
    "#5 Trigger để train 10000k trận \n",
    "#6 Đếm số lần yếu liên tiếp\n",
    "#7 Lưu array cho policy yếu \n",
    "#8 State của trận đấu\n",
    "#9 Action của trận đấu\n",
    "#10 Reward của trận đấu\n",
    "#11 Số trận lưu state\n",
    "#12 Trigger policy yếu\n",
    "#13 Lưu array của decision tree\n",
    "#14 Lưu giá trị để chia Node (TBC active win -TBC active lose)\n",
    "#15 Lưu thứ tự node của decision tree\n",
    "#16,17,18,19 Lưu giá trị của các policy\n",
    "perx = [np.array([np.random.rand(getActionSize()) for _ in range(1)]),np.zeros((1,getActionSize())),np.zeros((1,1)),np.array([np.random.rand(getActionSize()) for _ in range(1)]),np.zeros((1,2)),np.zeros((1,2)),np.zeros((1,1)),np.array([np.random.rand(getActionSize()) for _ in range(4)]),np.zeros((200000,getStateSize())),np.zeros((200000,1)),np.zeros((200000,1)),np.zeros((1,1)),np.zeros((1,3)),np.array([np.random.rand(getStateSize())-0.55 for _ in range(4)]),np.zeros((200000,4)),np.zeros((4,1)),np.zeros((1,getActionSize())),np.zeros((1,getActionSize())),np.zeros((1,getActionSize())),np.zeros((1,getActionSize()))]\n",
    "                         #0                                                      #1                   #2              #3                                                            #4              #5               #6                #7                                                               #8                                   #9               #10                   #11           #12              #13                                                             #14              #15                 #16                                   #17                  #18                          #19"
   ]
  },
  {
   "attachments": {},
   "cell_type": "markdown",
   "metadata": {},
   "source": [
    "# Hàm xây cây \n"
   ]
  },
  {
   "cell_type": "code",
   "execution_count": 62,
   "metadata": {},
   "outputs": [],
   "source": [
    "import numpy as np\n",
    "@njit\n",
    "def Build_decision_tree(per):\n",
    "    # replace -1 with 1 and 0\n",
    "    for i in range(len(per[10])):\n",
    "        if per[10][i] == -1:\n",
    "            for j in range(i,len(per[10])):\n",
    "                if per[10][j] != -1:\n",
    "                    per[10][i] = per[10][j]\n",
    "                    break\n",
    "    # replace -1 with 0\n",
    "    for i in range(len(per[10])):\n",
    "        if per[10][i] == -1:\n",
    "            per[10][i] = 0\n",
    "            \n",
    "    # Calculate the active match and non-active match\n",
    "    for j in range(4):\n",
    "        for i in range(200000):\n",
    "            per[14][i][j] += (per[8][i]@per[13][j])\n",
    "\n",
    "    #Calculate the active win and acitve lose\n",
    "    for j in range(4):\n",
    "        for i in range(200000):\n",
    "            if per[14][i][j] > 1 and per[10][i] == 1:\n",
    "                per[15][j] += 1\n",
    "            if per[14][i][j] > 1 and per[10][i] == 0:\n",
    "                per[15][j] -= 1 \n",
    "    return 0\n",
    "\n",
    "@njit \n",
    "def ChooseActionDecisionTree(state,per):\n",
    "    # Find build the decision tree\n",
    "    # Node 1 np.min(score)\n",
    "    # Node 2 second min score\n",
    "    # Node 3 third min score\n",
    "    # Node 4 max scored\n",
    "    l = np.argmax(per[15])\n",
    "    k = np.argmin(per[15])\n",
    "    m1 =0\n",
    "    m2 = 0\n",
    "    for i in range(4):\n",
    "        if i != l and i != k and m1 == 0:\n",
    "            m1 += i\n",
    "        if i != l and i != k and m1 != 0:\n",
    "            m2 += i\n",
    "    k1 = 0\n",
    "    k2 = 0\n",
    "    \n",
    "    if  per[15][m1]>per[15][m2]:\n",
    "        k1 = m1\n",
    "        k2 = m2\n",
    "    else:\n",
    "        k1 = m2\n",
    "        k2 = m1\n",
    "\n",
    "    #Node1\n",
    "    if state@per[13][l] > 1:\n",
    "        return l\n",
    "    else:\n",
    "        #Node2\n",
    "        if state@per[13][k1] > 1:\n",
    "            return k1\n",
    "        else:\n",
    "            #Node3\n",
    "            if state@per[13][k2] > 1:\n",
    "                return k2\n",
    "            #Node4\n",
    "            else:\n",
    "                if state@per[13][k] > 1:\n",
    "                    return k\n",
    "                else:\n",
    "                    return -1\n"
   ]
  },
  {
   "cell_type": "code",
   "execution_count": 144,
   "metadata": {},
   "outputs": [
    {
     "data": {
      "text/plain": [
       "array([[ -3.83556315,   1.2213083 ,  -5.07323939, -15.03526716],\n",
       "       [ -5.55638527,  -3.19920865,  -4.81989855, -13.80676021],\n",
       "       [ -3.39807471,  -1.20889308,  -5.02391345, -15.67584002],\n",
       "       ...,\n",
       "       [ -8.37683896,  -2.68534107,  -1.27436763, -14.25855748],\n",
       "       [ -9.13397441,  -6.89908887,  -0.60686886, -13.77990031],\n",
       "       [ -8.94235838,  -7.08275101,  -0.40433249, -11.75219874]])"
      ]
     },
     "execution_count": 144,
     "metadata": {},
     "output_type": "execute_result"
    }
   ],
   "source": [
    "perx[14]"
   ]
  },
  {
   "cell_type": "code",
   "execution_count": 46,
   "metadata": {},
   "outputs": [
    {
     "data": {
      "text/plain": [
       "[array([2924.21796689]),\n",
       " array([1148.21796689]),\n",
       " array([488.21796689]),\n",
       " array([1411.21796689])]"
      ]
     },
     "execution_count": 46,
     "metadata": {},
     "output_type": "execute_result"
    }
   ],
   "source": [
    "list(perx[15])"
   ]
  },
  {
   "cell_type": "code",
   "execution_count": 58,
   "metadata": {},
   "outputs": [
    {
     "data": {
      "text/plain": [
       "array([0.19227103])"
      ]
     },
     "execution_count": 58,
     "metadata": {},
     "output_type": "execute_result"
    }
   ],
   "source": [
    "[perx[15][1]/np.sum(perx[15])][0]"
   ]
  },
  {
   "cell_type": "code",
   "execution_count": 69,
   "metadata": {},
   "outputs": [
    {
     "data": {
      "text/plain": [
       "[array([0.39265813]),\n",
       " array([0.48966522]),\n",
       " array([0.08175292]),\n",
       " array([0.23631082])]"
      ]
     },
     "execution_count": 69,
     "metadata": {},
     "output_type": "execute_result"
    }
   ],
   "source": [
    "[perx[15][1]/np.max(perx[15]),perx[15][0]/np.sum(perx[15]),perx[15][2]/np.sum(perx[15]),perx[15][3]/np.sum(perx[15])]"
   ]
  },
  {
   "cell_type": "code",
   "execution_count": 87,
   "metadata": {},
   "outputs": [
    {
     "data": {
      "text/plain": [
       "3"
      ]
     },
     "execution_count": 87,
     "metadata": {},
     "output_type": "execute_result"
    }
   ],
   "source": [
    "np.random.choice(np.array([1,0,2,3]),p=[0.25,0.25,0.25,0.25])"
   ]
  },
  {
   "attachments": {},
   "cell_type": "markdown",
   "metadata": {},
   "source": [
    "# Agent Hoàn Chỉnh"
   ]
  },
  {
   "cell_type": "code",
   "execution_count": 70,
   "metadata": {},
   "outputs": [],
   "source": [
    "import numpy as np\n",
    "@njit\n",
    "def Build_decision_tree(per):\n",
    "    # replace -1 with 1 and 0\n",
    "    for i in range(len(per[10])):\n",
    "        if per[10][i] == -1:\n",
    "            for j in range(i,len(per[10])):\n",
    "                if per[10][j] != -1:\n",
    "                    per[10][i] = per[10][j]\n",
    "                    break\n",
    "    # replace -1 with 0\n",
    "    for i in range(len(per[10])):\n",
    "        if per[10][i] == -1:\n",
    "            per[10][i] = 0\n",
    "            \n",
    "    # Calculate the active match and non-active match\n",
    "    for j in range(4):\n",
    "        for i in range(200000):\n",
    "            per[14][i][j] += (per[8][i]@per[13][j])\n",
    "\n",
    "    #Calculate the active win and acitve lose\n",
    "    for j in range(4):\n",
    "        for i in range(200000):\n",
    "            if per[14][i][j] > 1 and per[10][i] == 1:\n",
    "                per[15][j] += 1\n",
    "            if per[14][i][j] > 1 and per[10][i] == 0:\n",
    "                per[15][j] -= 1 \n",
    "    return 0\n",
    "\n",
    "@njit \n",
    "def ChooseActionDecisionTree(state,per):\n",
    "    # Find build the decision tree\n",
    "    # Node 1 np.min(score)\n",
    "    # Node 2 second min score\n",
    "    # Node 3 third min score\n",
    "    # Node 4 max scored\n",
    "    l = np.argmax(per[15])\n",
    "    k = np.argmin(per[15])\n",
    "    m1 =0\n",
    "    m2 = 0\n",
    "    for i in range(4):\n",
    "        if i != l and i != k and m1 == 0:\n",
    "            m1 += i\n",
    "        if i != l and i != k and m1 != 0:\n",
    "            m2 += i\n",
    "    k1 = 0\n",
    "    k2 = 0\n",
    "    \n",
    "    if  per[15][m1]>per[15][m2]:\n",
    "        k1 = m1\n",
    "        k2 = m2\n",
    "    else:\n",
    "        k1 = m2\n",
    "        k2 = m1\n",
    "\n",
    "    #Node1\n",
    "    if state@per[13][l] > 1:\n",
    "        return l\n",
    "    else:\n",
    "        #Node2\n",
    "        if state@per[13][k1] > 1:\n",
    "            return k1\n",
    "        else:\n",
    "            #Node3\n",
    "            if state@per[13][k2] > 1:\n",
    "                return k2\n",
    "            #Node4\n",
    "            else:\n",
    "                if state@per[13][k] > 1:\n",
    "                    return k\n",
    "                else:\n",
    "                    return -1\n",
    "\n",
    "@njit()\n",
    "def p_bias(state,per):\n",
    "    # Chuyển Mode gồm 3 mode mode 0 - train bias , mode 1 - test bias , mode 2 - train policy yếu ,mode 3 - test policy yếu,mode 4 - lưu state\n",
    "    if per[4][0][0] > per[5][0][1] and per[4][0][1] == 10000 and per[5][0][0] == 1:\n",
    "      per[3][0] = np.copy(per[1][0]/np.max(per[1][0]))\n",
    "      # Lưu lại kết quả thắng\n",
    "      per[5][0][1] = 0 \n",
    "      per[5][0][1] += (per[4][0][0])\n",
    "      # Rest số trận thắng và số trận đấu \n",
    "      per[4][0][0] = 0\n",
    "      per[4][0][1] = 0 \n",
    "      # Chuyển sang train bias\n",
    "      per[5][0][0] = 0 \n",
    "      per[2][0][0] = 0\n",
    "      per[1][0] = np.zeros((1,getActionSize()))\n",
    "      # Reset số lần yếu liên tiếp\n",
    "      per[6][0][0] = 0 \n",
    "    elif per[5][0][1] > per[4][0][0] and per[4][0][1] == 10000 and per[5][0][0] == 1:\n",
    "      per[6][0][0] +=1 \n",
    "      # Chuyển sang train bias\n",
    "      per[5][0][0] = 0 \n",
    "      per[2][0][0] = 0\n",
    "      per[1][0] = np.zeros((1,getActionSize()))\n",
    "      # Rest số trận thắng và số trận đấu \n",
    "      per[4][0][0] = 0\n",
    "      per[4][0][1] = 0 \n",
    "\n",
    "    # Bắt đầu mode lưu state\n",
    "    if per[6][0][0] == 3 and per[11][0][0] < 200000 :\n",
    "      # Chuyển sang lưu state \n",
    "      per[5][0][0] = 4\n",
    "      per[2][0][0] = 0\n",
    "      # Rest số trận thắng và số trận đấu \n",
    "      per[4][0][1] = 0 \n",
    "      per[4][0][0] = 0\n",
    "      \n",
    "    # Hết mode lưu state chuyển sang train policy cho các arr\n",
    "    if per[5][0][0] == 4 and per[11][0][0] == 200000:\n",
    "      per[5][0][0] = 2\n",
    "\n",
    "    # Bất đầu mode train và test policy arr\n",
    "    if per[11][0][0] == 200000:\n",
    "      if per[4][0][0] > per[5][0][1] and per[4][0][1] == 10000 and per[5][0][0] == 3:\n",
    "        #\n",
    "        if np.sum(per[16][0]) !=0:\n",
    "          per[7][0] = np.copy(per[16][0]/np.max(per[16][0]))        \n",
    "        if np.sum(per[17][0]) !=0:\n",
    "          per[7][1] = np.copy(per[17][0]/np.max(per[17][0]))\n",
    "        if np.sum(per[18][0]) !=0:\n",
    "          per[7][2] = np.copy(per[18][0]/np.max(per[18][0]))\n",
    "        if np.sum(per[19][0]) !=0:\n",
    "          per[7][3] = np.copy(per[19][0]/np.max(per[19][0])) \n",
    "        #\n",
    "        # Lưu lại kết quả thắng\n",
    "        per[5][0][1] = 0 \n",
    "        per[5][0][1] += (per[4][0][0])\n",
    "        # Rest số trận thắng và số trận đấu \n",
    "        per[4][0][0] = 0\n",
    "        per[4][0][1] = 0 \n",
    "        # Chuyển sang train\n",
    "        per[12][0][2] = np.random.choice(np.array([1,0,2,3]))\n",
    "        per[5][0][0] = 2 \n",
    "        per[2][0][0] = 0\n",
    "        per[1][0] = np.zeros((1,getActionSize()))\n",
    "\n",
    "      elif per[5][0][1] > per[4][0][0] and per[4][0][1] == 10000 and per[5][0][0] == 3:\n",
    "        # Chuyển sang train\n",
    "        per[5][0][0] = 2 \n",
    "        per[2][0][0] = 0\n",
    "        per[1][0] = np.zeros((1,getActionSize()))\n",
    "        # Rest số trận thắng và số trận đấu \n",
    "        per[4][0][0] = 0\n",
    "        per[4][0][1] = 0 \n",
    "        per[12][0][2] = np.random.choice(np.array([1,0,2,3]))\n",
    "\n",
    "\n",
    "    # reset per[1][0] sau 100k trận\n",
    "    if int(per[2][0][0]) == 100000 and per[11][0][0] < 200000:\n",
    "      per[3][0] = np.copy(per[1][0]/np.max(per[1][0]))\n",
    "      per[2][0][0] = 0\n",
    "      per[5][0][0] = 1\n",
    "    # reset per[1][0] sau 10k trận\n",
    "    if int(per[2][0][0]) == 100000 and per[11][0][0] == 200000:\n",
    "      #\n",
    "      if np.sum(per[16][0]) !=0:\n",
    "        per[7][0] = np.copy(per[16][0]/np.max(per[16][0]))        \n",
    "      if np.sum(per[17][0]) !=0:\n",
    "        per[7][1] = np.copy(per[17][0]/np.max(per[17][0]))\n",
    "      if np.sum(per[18][0]) !=0:\n",
    "        per[7][2] = np.copy(per[18][0]/np.max(per[18][0]))\n",
    "      if np.sum(per[19][0]) !=0:\n",
    "        per[7][3] = np.copy(per[19][0]/np.max(per[19][0]))\n",
    "      #\n",
    "      per[2][0][0] = 0\n",
    "      per[5][0][0] = 3\n",
    "      per[12][0][2] = np.random.choice(np.array([1,0,2,3]))\n",
    "\n",
    "    if per[11][0][0] == 200000 and per[12][0][0] == 0:\n",
    "      per[12][0][0] +=1 \n",
    "      per[12][0][0] += Build_decision_tree(per)\n",
    "\n",
    "    # Chế độ train bias\n",
    "    if int(per[2][0][0]) < 100000 and per[5][0][0] == 0  :\n",
    "      actions = getValidActions(state)\n",
    "      actions *= per[0][0]\n",
    "      action = np.argmax(actions)\n",
    "      if getReward(state) == 1 :\n",
    "          per[1] += per[0][0]\n",
    "      if getReward(state) == 0:\n",
    "          per[0][0] = np.random.rand(getActionSize())\n",
    "\n",
    "    # Chế độ test bias\n",
    "    elif int(per[2][0][0]) <10000  and per[5][0][0] == 1 : \n",
    "      list_action2 = getValidActions(state)\n",
    "      action = np.argmax(list_action2*per[3][0])    \n",
    "      if getReward(state) == 1:\n",
    "        per[4][0][0]+=1\n",
    "      if getReward(state) != -1:\n",
    "        per[4][0][1]+=1  \n",
    "\n",
    "    # Chế độ train policy arr\n",
    "    elif int(per[2][0][0]) < 100000 and per[5][0][0] == 2 and per[11][0][0] == 200000 :\n",
    "      actions = getValidActions(state)\n",
    "      # Check xem policy có yếu không \n",
    "      Check_yeu = ChooseActionDecisionTree(state,per)\n",
    "      if Check_yeu == per[12][0][2]:\n",
    "        per[12][0][1] = -1\n",
    "        actions *= per[0][0]\n",
    "        action = np.argmax(actions)\n",
    "      else:\n",
    "        actions *= per[3][0]\n",
    "        action = np.argmax(actions)\n",
    "        \n",
    "      if getReward(state) == 1 and per[12][0][1] != 0:\n",
    "        per[int(per[12][0][2]+16)] += per[0][0]\n",
    "        per[12][0][1] = 0\n",
    "        \n",
    "      if getReward(state) == 0 and per[12][0][1] != 0:\n",
    "        per[0][0] = np.random.rand(getActionSize())\n",
    "        per[12][0][1] = 0\n",
    "\n",
    "    # chế độ test policy yếu\n",
    "    elif int(per[2][0][0]) <10000 and  per[5][0][0] == 3 and per[11][0][0] == 200000:\n",
    "      actions = getValidActions(state)\n",
    "      # Check xem policy có yếu không \n",
    "      node = ChooseActionDecisionTree(state,per)\n",
    "      \n",
    "      if node != -1:\n",
    "        actions *= per[7][node]\n",
    "        action = np.argmax(actions)\n",
    "      else:\n",
    "        actions *= per[3][0]\n",
    "        action = np.argmax(actions)\n",
    "\n",
    "      if getReward(state) == 1:\n",
    "        per[4][0][0]+=1\n",
    "      if getReward(state) != -1:\n",
    "        per[4][0][1]+=1  \n",
    "    \n",
    "\n",
    "    # Báo chuyển sang chế độ lưu state và action\n",
    "    if per[5][0][0] == 4 and per[11][0][0] < 200000:\n",
    "      list_action2 = getValidActions(state)\n",
    "      action = np.argmax(list_action2*per[3][0]) \n",
    "\n",
    "\n",
    "    # Lưu state và action\n",
    "    if getReward(state) != -2 and per[11][0][0] < 200000 and per[5][0][0] == 4:\n",
    "        for i in range(getStateSize()):\n",
    "          per[8][int(per[11][0][0])][i] += state[i]        \n",
    "        per[9][int(per[11][0][0])][0] += int(action)\n",
    "        per[10][int(per[11][0][0])][0] += int(getReward(state))\n",
    "        per[11][0][0] += 1\n",
    "\n",
    "    # đếm số ván đấu \n",
    "    if getReward(state) != -1 :\n",
    "        per[2][0][0] += 1\n",
    "    return action,per\n",
    "@njit()\n",
    "def test(state,per):\n",
    "    actions = getValidActions(state)\n",
    "    # Check xem policy có yếu không \n",
    "    node = ChooseActionDecisionTree(state,per)\n",
    "    if node != -1:\n",
    "      actions *= per[7][node]\n",
    "      action = np.argmax(actions)\n",
    "    else:\n",
    "      actions *= per[3][0]\n",
    "      action = np.argmax(actions)\n",
    "    return action,per\n",
    "win, bias = numba_main_2(p_bias, 2000000,perx,0)"
   ]
  },
  {
   "attachments": {},
   "cell_type": "markdown",
   "metadata": {},
   "source": [
    "# Test lại tỷ lệ thắng của level 1 game MachiKoro"
   ]
  },
  {
   "attachments": {},
   "cell_type": "markdown",
   "metadata": {},
   "source": [
    "**Khi chưa khắc phục policy yếu :24551** \n",
    "\n",
    "\n",
    "**Khi đã khắc phục policy yếu :27961**"
   ]
  },
  {
   "cell_type": "code",
   "execution_count": 78,
   "metadata": {},
   "outputs": [
    {
     "name": "stdout",
     "output_type": "stream",
     "text": [
      "2978\n"
     ]
    }
   ],
   "source": [
    "@njit()\n",
    "def test(state,per):\n",
    "    actions = getValidActions(state)\n",
    "    # Check xem policy có yếu không \n",
    "    node = ChooseActionDecisionTree(state,per)\n",
    "    if node != -1:\n",
    "      actions *= per[7][node]\n",
    "      action = np.argmax(actions)\n",
    "    else:\n",
    "      actions *= per[3][0]\n",
    "      action = np.argmax(actions)\n",
    "    return action,per\n",
    "win, bias = numba_main_2(test, 10000,perx,1)\n",
    "print(win)"
   ]
  }
 ],
 "metadata": {
  "kernelspec": {
   "display_name": "base",
   "language": "python",
   "name": "python3"
  },
  "language_info": {
   "codemirror_mode": {
    "name": "ipython",
    "version": 3
   },
   "file_extension": ".py",
   "mimetype": "text/x-python",
   "name": "python",
   "nbconvert_exporter": "python",
   "pygments_lexer": "ipython3",
   "version": "3.9.7"
  },
  "orig_nbformat": 4,
  "vscode": {
   "interpreter": {
    "hash": "ff2136a0fe6bc790f1b40d257e6b1bba23119827483ea2b7c12c8cc23c661a47"
   }
  }
 },
 "nbformat": 4,
 "nbformat_minor": 2
}
