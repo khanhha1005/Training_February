{
 "cells": [
  {
   "cell_type": "code",
   "execution_count": 49,
   "metadata": {},
   "outputs": [
    {
     "name": "stdout",
     "output_type": "stream",
     "text": [
      "/Users/trancatkhanh/Downloads/GAME\n"
     ]
    }
   ],
   "source": [
    "%cd /Users/trancatkhanh/Downloads/GAME"
   ]
  },
  {
   "cell_type": "code",
   "execution_count": 61,
   "metadata": {},
   "outputs": [],
   "source": [
    "import numpy as np\n",
    "from base.MachiKoro.env import *\n",
    "#0 Array bias trong mỗi trận\n",
    "#1 Array bias sau 10000k trận \n",
    "#2 Lưu số trận \n",
    "#3 lưu hệ số đã dùng \n",
    "#4 Tỷ lệ thắng khi đấu 10k trận \n",
    "#5 Trigger để train 10000k trận \n",
    "#6 Đếm số lần yếu liên tiếp\n",
    "#7 Lưu array cho policy yếu \n",
    "#8 State của trận đấu\n",
    "#9 Action của trận đấu\n",
    "#10 Reward của trận đấu\n",
    "#11 Số trận lưu state\n",
    "#12 Trigger policy yếu\n",
    "#13 Lưu array của decision tree\n",
    "#14 Lưu giá trị để chia Node (TBC active win -TBC active lose)\n",
    "#15 Lưu thứ tự node của decision tree\n",
    "perx = [np.array([np.random.rand(getActionSize()) for _ in range(1)]),np.zeros((1,getActionSize())),np.zeros((1,1)),np.array([np.random.rand(getActionSize()) for _ in range(1)]),np.zeros((1,2)),np.zeros((1,2)),np.zeros((1,1)),np.array([np.random.rand(getActionSize()) for _ in range(4)]),np.zeros((200000,getStateSize())),np.zeros((200000,1)),np.zeros((200000,1)),np.zeros((1,1)),np.zeros((1,3)),np.array([np.random.rand(getStateSize())-0.55 for _ in range(4)]),np.zeros((200000,4)),np.zeros((4,1)),np.zeros((1,getActionSize())),np.zeros((1,getActionSize())),np.zeros((1,getActionSize())),np.zeros((1,getActionSize()))]\n",
    "                         #0                                                      #1                   #2              #3                                                            #4              #5               #6                #7                                                               #8                                   #9               #10                   #11           #12              #13                                                             #14              #15                 #16                                   #17                  #18                          #19"
   ]
  },
  {
   "attachments": {},
   "cell_type": "markdown",
   "metadata": {},
   "source": [
    "# Hàm xây cây \n"
   ]
  },
  {
   "cell_type": "code",
   "execution_count": 62,
   "metadata": {},
   "outputs": [],
   "source": [
    "import numpy as np\n",
    "@njit\n",
    "def Build_decision_tree(per):\n",
    "    # replace -1 with 1 and 0\n",
    "    for i in range(len(per[10])):\n",
    "        if per[10][i] == -1:\n",
    "            for j in range(i,len(per[10])):\n",
    "                if per[10][j] != -1:\n",
    "                    per[10][i] = per[10][j]\n",
    "                    break\n",
    "    # replace -1 with 0\n",
    "    for i in range(len(per[10])):\n",
    "        if per[10][i] == -1:\n",
    "            per[10][i] = 0\n",
    "            \n",
    "    # Calculate the active match and non-active match\n",
    "    for j in range(4):\n",
    "        for i in range(200000):\n",
    "            per[14][i][j] += (per[8][i]@per[13][j])\n",
    "\n",
    "    #Calculate the active win and acitve lose\n",
    "    for j in range(4):\n",
    "        for i in range(200000):\n",
    "            if per[14][i][j] > 1 and per[10][i] == 1:\n",
    "                per[15][j] += 1\n",
    "            if per[14][i][j] > 1 and per[10][i] == 0:\n",
    "                per[15][j] -= 1 \n",
    "    return 0\n",
    "\n",
    "@njit \n",
    "def ChooseActionDecisionTree(state,per):\n",
    "    # Find build the decision tree\n",
    "    # Node 1 np.min(score)\n",
    "    # Node 2 second min score\n",
    "    # Node 3 third min score\n",
    "    # Node 4 max scored\n",
    "    l = np.argmax(per[15])\n",
    "    k = np.argmin(per[15])\n",
    "    m1 =0\n",
    "    m2 = 0\n",
    "    for i in range(4):\n",
    "        if i != l and i != k and m1 == 0:\n",
    "            m1 += i\n",
    "        if i != l and i != k and m1 != 0:\n",
    "            m2 += i\n",
    "    k1 = 0\n",
    "    k2 = 0\n",
    "    \n",
    "    if  per[15][m1]>per[15][m2]:\n",
    "        k1 = m1\n",
    "        k2 = m2\n",
    "    else:\n",
    "        k1 = m2\n",
    "        k2 = m1\n",
    "\n",
    "    #Node1\n",
    "    if state@per[13][l] > 1:\n",
    "        return l\n",
    "    else:\n",
    "        #Node2\n",
    "        if state@per[13][k1] > 1:\n",
    "            return k1\n",
    "        else:\n",
    "            #Node3\n",
    "            if state@per[13][k2] > 1:\n",
    "                return k2\n",
    "            #Node4\n",
    "            else:\n",
    "                if state@per[13][k] > 1:\n",
    "                    return k\n",
    "                else:\n",
    "                    return -1\n"
   ]
  },
  {
   "cell_type": "code",
   "execution_count": 144,
   "metadata": {},
   "outputs": [
    {
     "data": {
      "text/plain": [
       "array([[ -3.83556315,   1.2213083 ,  -5.07323939, -15.03526716],\n",
       "       [ -5.55638527,  -3.19920865,  -4.81989855, -13.80676021],\n",
       "       [ -3.39807471,  -1.20889308,  -5.02391345, -15.67584002],\n",
       "       ...,\n",
       "       [ -8.37683896,  -2.68534107,  -1.27436763, -14.25855748],\n",
       "       [ -9.13397441,  -6.89908887,  -0.60686886, -13.77990031],\n",
       "       [ -8.94235838,  -7.08275101,  -0.40433249, -11.75219874]])"
      ]
     },
     "execution_count": 144,
     "metadata": {},
     "output_type": "execute_result"
    }
   ],
   "source": [
    "perx[14]"
   ]
  },
  {
   "cell_type": "code",
   "execution_count": 46,
   "metadata": {},
   "outputs": [
    {
     "data": {
      "text/plain": [
       "[array([2924.21796689]),\n",
       " array([1148.21796689]),\n",
       " array([488.21796689]),\n",
       " array([1411.21796689])]"
      ]
     },
     "execution_count": 46,
     "metadata": {},
     "output_type": "execute_result"
    }
   ],
   "source": [
    "list(perx[15])"
   ]
  },
  {
   "cell_type": "code",
   "execution_count": 58,
   "metadata": {},
   "outputs": [
    {
     "data": {
      "text/plain": [
       "array([0.19227103])"
      ]
     },
     "execution_count": 58,
     "metadata": {},
     "output_type": "execute_result"
    }
   ],
   "source": [
    "[perx[15][1]/np.sum(perx[15])][0]"
   ]
  },
  {
   "cell_type": "code",
   "execution_count": 69,
   "metadata": {},
   "outputs": [
    {
     "data": {
      "text/plain": [
       "[array([0.39265813]),\n",
       " array([0.48966522]),\n",
       " array([0.08175292]),\n",
       " array([0.23631082])]"
      ]
     },
     "execution_count": 69,
     "metadata": {},
     "output_type": "execute_result"
    }
   ],
   "source": [
    "[perx[15][1]/np.max(perx[15]),perx[15][0]/np.sum(perx[15]),perx[15][2]/np.sum(perx[15]),perx[15][3]/np.sum(perx[15])]"
   ]
  },
  {
   "cell_type": "code",
   "execution_count": 87,
   "metadata": {},
   "outputs": [
    {
     "data": {
      "text/plain": [
       "3"
      ]
     },
     "execution_count": 87,
     "metadata": {},
     "output_type": "execute_result"
    }
   ],
   "source": [
    "np.random.choice(np.array([1,0,2,3]),p=[0.25,0.25,0.25,0.25])"
   ]
  },
  {
   "attachments": {},
   "cell_type": "markdown",
   "metadata": {},
   "source": [
    "# Agent Hoàn Chỉnh"
   ]
  },
  {
   "cell_type": "code",
   "execution_count": 70,
   "metadata": {},
   "outputs": [],
   "source": [
    "import numpy as np\n",
    "@njit()\n",
    "def p_bias(state,per):\n",
    "    # Chuyển Mode gồm 3 mode mode 0 - train bias , mode 1 - test bias , mode 2 - train policy yếu ,mode 3 - test policy yếu,mode 4 - lưu state\n",
    "    if per[4][0][0] > per[5][0][1] and per[4][0][1] == 10000 and per[5][0][0] == 1:\n",
    "      per[3][0] = np.copy(per[1][0]/np.max(per[1][0]))\n",
    "      # Lưu lại kết quả thắng\n",
    "      per[5][0][1] = 0 \n",
    "      per[5][0][1] += (per[4][0][0])\n",
    "      # Rest số trận thắng và số trận đấu \n",
    "      per[4][0][0] = 0\n",
    "      per[4][0][1] = 0 \n",
    "      # Chuyển sang train bias\n",
    "      per[5][0][0] = 0 \n",
    "      per[2][0][0] = 0\n",
    "      per[1][0] = np.zeros((1,getActionSize()))\n",
    "      # Reset số lần yếu liên tiếp\n",
    "      per[6][0][0] = 0 \n",
    "    elif per[5][0][1] > per[4][0][0] and per[4][0][1] == 10000 and per[5][0][0] == 1:\n",
    "      per[6][0][0] +=1 \n",
    "      # Chuyển sang train bias\n",
    "      per[5][0][0] = 0 \n",
    "      per[2][0][0] = 0\n",
    "      per[1][0] = np.zeros((1,getActionSize()))\n",
    "      # Rest số trận thắng và số trận đấu \n",
    "      per[4][0][0] = 0\n",
    "      per[4][0][1] = 0 \n",
    "\n",
    "    # Bắt đầu mode lưu state\n",
    "    if per[6][0][0] == 3 and per[11][0][0] < 200000 :\n",
    "      # Chuyển sang lưu state \n",
    "      per[5][0][0] = 4\n",
    "      per[2][0][0] = 0\n",
    "      # Rest số trận thắng và số trận đấu \n",
    "      per[4][0][1] = 0 \n",
    "      per[4][0][0] = 0\n",
    "      \n",
    "    # Hết mode lưu state chuyển sang train policy cho các arr\n",
    "    if per[5][0][0] == 4 and per[11][0][0] == 200000:\n",
    "      per[5][0][0] = 2\n",
    "\n",
    "    # Bất đầu mode train và test policy arr\n",
    "    if per[11][0][0] == 200000:\n",
    "      if per[4][0][0] > per[5][0][1] and per[4][0][1] == 10000 and per[5][0][0] == 3:\n",
    "        #\n",
    "        if np.sum(per[16][0]) !=0:\n",
    "          per[7][0] = np.copy(per[16][0]/np.max(per[16][0]))        \n",
    "        if np.sum(per[17][0]) !=0:\n",
    "          per[7][1] = np.copy(per[17][0]/np.max(per[17][0]))\n",
    "        if np.sum(per[18][0]) !=0:\n",
    "          per[7][2] = np.copy(per[18][0]/np.max(per[18][0]))\n",
    "        if np.sum(per[19][0]) !=0:\n",
    "          per[7][3] = np.copy(per[19][0]/np.max(per[19][0])) \n",
    "        #\n",
    "        # Lưu lại kết quả thắng\n",
    "        per[5][0][1] = 0 \n",
    "        per[5][0][1] += (per[4][0][0])\n",
    "        # Rest số trận thắng và số trận đấu \n",
    "        per[4][0][0] = 0\n",
    "        per[4][0][1] = 0 \n",
    "        # Chuyển sang train\n",
    "        per[12][0][2] = np.random.choice(np.array([1,0,2,3]))\n",
    "        per[5][0][0] = 2 \n",
    "        per[2][0][0] = 0\n",
    "        per[1][0] = np.zeros((1,getActionSize()))\n",
    "\n",
    "      elif per[5][0][1] > per[4][0][0] and per[4][0][1] == 10000 and per[5][0][0] == 3:\n",
    "        # Chuyển sang train\n",
    "        per[5][0][0] = 2 \n",
    "        per[2][0][0] = 0\n",
    "        per[1][0] = np.zeros((1,getActionSize()))\n",
    "        # Rest số trận thắng và số trận đấu \n",
    "        per[4][0][0] = 0\n",
    "        per[4][0][1] = 0 \n",
    "        per[12][0][2] = np.random.choice(np.array([1,0,2,3]))\n",
    "\n",
    "\n",
    "    # reset per[1][0] sau 100k trận\n",
    "    if int(per[2][0][0]) == 100000 and per[11][0][0] < 200000:\n",
    "      per[3][0] = np.copy(per[1][0]/np.max(per[1][0]))\n",
    "      per[2][0][0] = 0\n",
    "      per[5][0][0] = 1\n",
    "    # reset per[1][0] sau 10k trận\n",
    "    if int(per[2][0][0]) == 100000 and per[11][0][0] == 200000:\n",
    "      #\n",
    "      if np.sum(per[16][0]) !=0:\n",
    "        per[7][0] = np.copy(per[16][0]/np.max(per[16][0]))        \n",
    "      if np.sum(per[17][0]) !=0:\n",
    "        per[7][1] = np.copy(per[17][0]/np.max(per[17][0]))\n",
    "      if np.sum(per[18][0]) !=0:\n",
    "        per[7][2] = np.copy(per[18][0]/np.max(per[18][0]))\n",
    "      if np.sum(per[19][0]) !=0:\n",
    "        per[7][3] = np.copy(per[19][0]/np.max(per[19][0]))\n",
    "      #\n",
    "      per[2][0][0] = 0\n",
    "      per[5][0][0] = 3\n",
    "      per[12][0][2] = np.random.choice(np.array([1,0,2,3]))\n",
    "\n",
    "    if per[11][0][0] == 200000 and per[12][0][0] == 0:\n",
    "      per[12][0][0] +=1 \n",
    "      per[12][0][0] += Build_decision_tree(per)\n",
    "\n",
    "    # Chế độ train bias\n",
    "    if int(per[2][0][0]) < 100000 and per[5][0][0] == 0  :\n",
    "      actions = getValidActions(state)\n",
    "      actions *= per[0][0]\n",
    "      action = np.argmax(actions)\n",
    "      if getReward(state) == 1 :\n",
    "          per[1] += per[0][0]\n",
    "      if getReward(state) == 0:\n",
    "          per[0][0] = np.random.rand(getActionSize())\n",
    "\n",
    "    # Chế độ test bias\n",
    "    elif int(per[2][0][0]) <10000  and per[5][0][0] == 1 : \n",
    "      list_action2 = getValidActions(state)\n",
    "      action = np.argmax(list_action2*per[3][0])    \n",
    "      if getReward(state) == 1:\n",
    "        per[4][0][0]+=1\n",
    "      if getReward(state) != -1:\n",
    "        per[4][0][1]+=1  \n",
    "\n",
    "    # Chế độ train policy arr\n",
    "    elif int(per[2][0][0]) < 100000 and per[5][0][0] == 2 and per[11][0][0] == 200000 :\n",
    "      actions = getValidActions(state)\n",
    "      # Check xem policy có yếu không \n",
    "      Check_yeu = ChooseActionDecisionTree(state,per)\n",
    "      if Check_yeu == per[12][0][2]:\n",
    "        per[12][0][1] = -1\n",
    "        actions *= per[0][0]\n",
    "        action = np.argmax(actions)\n",
    "      else:\n",
    "        actions *= per[3][0]\n",
    "        action = np.argmax(actions)\n",
    "        \n",
    "      if getReward(state) == 1 and per[12][0][1] != 0:\n",
    "        per[int(per[12][0][2]+16)] += per[0][0]\n",
    "        per[12][0][1] = 0\n",
    "        \n",
    "      if getReward(state) == 0 and per[12][0][1] != 0:\n",
    "        per[0][0] = np.random.rand(getActionSize())\n",
    "        per[12][0][1] = 0\n",
    "\n",
    "    # chế độ test policy yếu\n",
    "    elif int(per[2][0][0]) <10000 and  per[5][0][0] == 3 and per[11][0][0] == 200000:\n",
    "      actions = getValidActions(state)\n",
    "      # Check xem policy có yếu không \n",
    "      node = ChooseActionDecisionTree(state,per)\n",
    "      \n",
    "      if node != -1:\n",
    "        actions *= per[7][node]\n",
    "        action = np.argmax(actions)\n",
    "      else:\n",
    "        actions *= per[3][0]\n",
    "        action = np.argmax(actions)\n",
    "\n",
    "      if getReward(state) == 1:\n",
    "        per[4][0][0]+=1\n",
    "      if getReward(state) != -1:\n",
    "        per[4][0][1]+=1  \n",
    "    \n",
    "\n",
    "    # Báo chuyển sang chế độ lưu state và action\n",
    "    if per[5][0][0] == 4 and per[11][0][0] < 200000:\n",
    "      list_action2 = getValidActions(state)\n",
    "      action = np.argmax(list_action2*per[3][0]) \n",
    "\n",
    "\n",
    "    # Lưu state và action\n",
    "    if getReward(state) != -2 and per[11][0][0] < 200000 and per[5][0][0] == 4:\n",
    "        for i in range(getStateSize()):\n",
    "          per[8][int(per[11][0][0])][i] += state[i]        \n",
    "        per[9][int(per[11][0][0])][0] += int(action)\n",
    "        per[10][int(per[11][0][0])][0] += int(getReward(state))\n",
    "        per[11][0][0] += 1\n",
    "\n",
    "    # đếm số ván đấu \n",
    "    if getReward(state) != -1 :\n",
    "        per[2][0][0] += 1\n",
    "    return action,per\n",
    "\n",
    "win, bias = numba_main_2(p_bias, 1000000,perx,0)"
   ]
  },
  {
   "cell_type": "code",
   "execution_count": 67,
   "metadata": {},
   "outputs": [
    {
     "data": {
      "text/plain": [
       "array([[3.]])"
      ]
     },
     "execution_count": 67,
     "metadata": {},
     "output_type": "execute_result"
    }
   ],
   "source": [
    "perx[15]"
   ]
  },
  {
   "cell_type": "code",
   "execution_count": 68,
   "metadata": {},
   "outputs": [
    {
     "data": {
      "text/plain": [
       "array([[0.94014545, 0.4532549 , 0.7302798 , 0.08740159, 0.33859935,\n",
       "        0.57176434, 0.70240171, 0.45240649, 0.73415086, 0.2315212 ,\n",
       "        0.85301818, 0.55944826, 0.43727301, 0.76844644, 0.11484158,\n",
       "        0.02631527, 0.66596741, 0.00151795, 0.50001383, 0.87419997,\n",
       "        0.48629188, 0.23302959, 0.01097628, 0.68135116, 0.9045445 ,\n",
       "        0.27340282, 0.58144376, 0.53678347, 0.90525584, 0.22543674,\n",
       "        0.72893048, 0.65060838, 0.43913916, 0.37161236, 0.15179053,\n",
       "        0.69537189, 0.52754845, 0.77687775, 0.14313024, 0.8061265 ,\n",
       "        0.41946068, 0.98926282, 0.36575031, 0.47818657, 0.46825995,\n",
       "        0.74191437, 0.77584181, 0.83767177, 0.19857772, 0.52802868,\n",
       "        0.49856027, 0.69303932, 0.20162423, 0.48928911],\n",
       "       [0.18406709, 0.2349893 , 0.74727661, 0.76974028, 0.28728223,\n",
       "        0.95500627, 0.78416414, 0.04855777, 0.14829326, 0.93421291,\n",
       "        0.06507147, 0.66399121, 0.09893419, 0.11787808, 0.37442309,\n",
       "        0.43516948, 0.08665236, 0.44677825, 0.40561766, 0.96152764,\n",
       "        0.29126468, 0.36486282, 0.26544203, 0.898621  , 0.26871326,\n",
       "        0.29464926, 0.92768319, 0.67617637, 0.04680796, 0.79809163,\n",
       "        0.41983367, 0.9297728 , 0.58563351, 0.6655624 , 0.55583341,\n",
       "        0.86177799, 0.37618528, 0.45039573, 0.06460378, 0.60613736,\n",
       "        0.58003129, 0.85760325, 0.60692318, 0.44519351, 0.62403646,\n",
       "        0.15064434, 0.22195703, 0.57566773, 0.3016815 , 0.529186  ,\n",
       "        0.74328729, 0.19726565, 0.7400129 , 0.27881406],\n",
       "       [0.13118529, 0.20773076, 0.63890772, 0.64619004, 0.11947776,\n",
       "        0.76828194, 0.20679012, 0.96675229, 0.60110295, 0.67454921,\n",
       "        0.6146394 , 0.37179729, 0.43455203, 0.77114131, 0.43611428,\n",
       "        0.37102063, 0.45787151, 0.4912171 , 0.57119811, 0.59180585,\n",
       "        0.52445125, 0.66491373, 0.45361562, 0.13078969, 0.52709766,\n",
       "        0.75359328, 0.89870775, 0.93884047, 0.11507889, 0.72237469,\n",
       "        0.67901612, 0.61958852, 0.67003792, 0.6175025 , 0.56558076,\n",
       "        0.54308476, 0.49657325, 0.20521948, 0.90840185, 0.81015672,\n",
       "        0.33579001, 0.31311843, 0.2980451 , 0.38017304, 0.11707879,\n",
       "        0.85065788, 0.53120381, 0.17673895, 0.81969626, 0.10401691,\n",
       "        0.8627045 , 0.87252571, 0.78200057, 0.70164905],\n",
       "       [0.79098358, 0.79519854, 0.79909234, 0.79175204, 0.79174143,\n",
       "        0.7870164 , 0.79258134, 0.79911422, 0.80166664, 0.79232279,\n",
       "        0.79484614, 0.79745213, 0.80089166, 0.8068465 , 0.79899631,\n",
       "        0.79689219, 0.79050567, 0.79686662, 0.77954179, 0.79084087,\n",
       "        0.79445519, 0.79121227, 0.79779509, 0.78991471, 0.7900121 ,\n",
       "        0.7991542 , 0.78742086, 0.79208076, 0.79935753, 0.79264579,\n",
       "        0.79424642, 0.79579478, 0.79602758, 0.79388006, 0.79888949,\n",
       "        0.79921332, 0.7905875 , 0.79871113, 0.79385084, 0.80066177,\n",
       "        0.79438934, 0.78944062, 0.7865558 , 0.7930683 , 0.79435387,\n",
       "        0.80216946, 0.78765389, 0.79834074, 0.77026439, 1.        ,\n",
       "        0.9354044 , 0.81079859, 0.78748625, 0.46744001]])"
      ]
     },
     "execution_count": 68,
     "metadata": {},
     "output_type": "execute_result"
    }
   ],
   "source": [
    "perx[7]"
   ]
  },
  {
   "attachments": {},
   "cell_type": "markdown",
   "metadata": {},
   "source": [
    "# Test lại tỷ lệ thắng của level 1 game MachiKoro"
   ]
  },
  {
   "attachments": {},
   "cell_type": "markdown",
   "metadata": {},
   "source": [
    "**Khi chưa khắc phục policy yếu :24551** \n",
    "\n",
    "\n",
    "**Khi đã khắc phục policy yếu :27961**"
   ]
  },
  {
   "cell_type": "code",
   "execution_count": null,
   "metadata": {},
   "outputs": [
    {
     "name": "stdout",
     "output_type": "stream",
     "text": [
      "2474\n"
     ]
    }
   ],
   "source": [
    "@njit()\n",
    "def test(state,per):\n",
    "    actions = getValidActions(state)\n",
    "    # Check xem policy có yếu không \n",
    "    node = ChooseActionDecisionTree(state,per)\n",
    "    if node != -1:\n",
    "      actions *= per[7][node]\n",
    "      action = np.argmax(actions)\n",
    "    else:\n",
    "      actions *= per[3][0]\n",
    "      action = np.argmax(actions)\n",
    "    return action,per\n",
    "win, bias = numba_main_2(test, 10000,perx,1)\n",
    "print(win)"
   ]
  },
  {
   "cell_type": "code",
   "execution_count": 209,
   "metadata": {},
   "outputs": [
    {
     "data": {
      "text/plain": [
       "array([[ 270.],\n",
       "       [  -7.],\n",
       "       [-255.],\n",
       "       [ -74.]])"
      ]
     },
     "execution_count": 209,
     "metadata": {},
     "output_type": "execute_result"
    }
   ],
   "source": [
    "perx[15]"
   ]
  },
  {
   "attachments": {},
   "cell_type": "markdown",
   "metadata": {},
   "source": [
    "# Tạo cây rỗng ==> Tạo các tính chất trước "
   ]
  },
  {
   "cell_type": "code",
   "execution_count": 7,
   "metadata": {},
   "outputs": [
    {
     "name": "stdout",
     "output_type": "stream",
     "text": [
      "/Users/trancatkhanh/Downloads/GAME\n",
      "271\n"
     ]
    }
   ],
   "source": [
    "%cd /Users/trancatkhanh/Downloads/GAME\n",
    "import numpy as np\n",
    "from base.MachiKoro.env import *\n",
    "per_state= [np.zeros((200000,getStateSize())),np.zeros((200000,1)),np.zeros((1,1))]\n",
    "\n",
    "@njit()\n",
    "def tao_arr(state,per):\n",
    "    actions = getValidActions(state)\n",
    "    # Check xem policy có yếu không \n",
    "    l = np.where(actions ==1)[0]\n",
    "    action = np.random.choice(l)\n",
    "    if per[2][0][0] < 200000:\n",
    "        for i in range(getStateSize()):\n",
    "            per[0][int(per[2][0][0])][i] += state[i]\n",
    "        per[1][int(per[2][0][0])][0] += getReward(state)\n",
    "        per[2][0][0]+=1 \n",
    "    return action,per\n",
    "@njit\n",
    "win, bias = numba_main_2(tao_arr, 100000,per_state,0)\n",
    "print(win)"
   ]
  },
  {
   "cell_type": "code",
   "execution_count": 6,
   "metadata": {},
   "outputs": [
    {
     "data": {
      "text/plain": [
       "array([  131,   132,   133, ..., 49775, 49776, 49777])"
      ]
     },
     "execution_count": 6,
     "metadata": {},
     "output_type": "execute_result"
    }
   ],
   "source": [
    "for i in range(len(per_state[1])):\n",
    "    if per_state[1][i] == -1:\n",
    "        for j in range(i,len(per_state[1])):\n",
    "            if per_state[1][j] != -1:\n",
    "                per_state[1][i] = per_state[1][j]\n",
    "                break\n",
    "# replace -1 with 0\n",
    "for i in range(len(per_state[1])):\n",
    "    if per_state[1][i] == -1:\n",
    "        per_state[1][i] = 0\n",
    "np.where(per_state[1]==1)[0]"
   ]
  },
  {
   "cell_type": "code",
   "execution_count": 11,
   "metadata": {},
   "outputs": [
    {
     "data": {
      "text/plain": [
       "54.41581469623884"
      ]
     },
     "execution_count": 11,
     "metadata": {},
     "output_type": "execute_result"
    }
   ],
   "source": [
    "l@per_state[0][1]"
   ]
  },
  {
   "cell_type": "code",
   "execution_count": 72,
   "metadata": {},
   "outputs": [],
   "source": [
    "l = np.array([np.random.rand(getStateSize())-0.55 for _ in range(4)])\n",
    "k = np.zeros((200000,4))\n",
    "# save all the value of l @ each array of per_state[0]\n",
    "for j in range(4):\n",
    "    for i in range(len(per_state[0])):\n",
    "        k[i][j] += (per_state[0][i]@l[j])\n",
    "score = np.zeros((4,1))\n",
    "# if k[i][j] > 1 and per_state[1][i] == 1 then score[j] += 1 \n",
    "# if k[i][j] > 1 and per_state[1][i] == 0 then score[j] -= 1\n",
    "for j in range(4):\n",
    "    for i in range(len(per_state[0])):\n",
    "        if k[i][j] > 1 and per_state[1][i] == 1:\n",
    "            score[j] += 1\n",
    "        if k[i][j] > 1 and per_state[1][i] == 0:\n",
    "            score[j] -= 1 \n"
   ]
  },
  {
   "cell_type": "code",
   "execution_count": 74,
   "metadata": {},
   "outputs": [
    {
     "data": {
      "text/plain": [
       "array([[ -42.],\n",
       "       [ -11.],\n",
       "       [ -57.],\n",
       "       [-329.]])"
      ]
     },
     "execution_count": 74,
     "metadata": {},
     "output_type": "execute_result"
    }
   ],
   "source": [
    "score"
   ]
  }
 ],
 "metadata": {
  "kernelspec": {
   "display_name": "base",
   "language": "python",
   "name": "python3"
  },
  "language_info": {
   "codemirror_mode": {
    "name": "ipython",
    "version": 3
   },
   "file_extension": ".py",
   "mimetype": "text/x-python",
   "name": "python",
   "nbconvert_exporter": "python",
   "pygments_lexer": "ipython3",
   "version": "3.9.7"
  },
  "orig_nbformat": 4,
  "vscode": {
   "interpreter": {
    "hash": "ff2136a0fe6bc790f1b40d257e6b1bba23119827483ea2b7c12c8cc23c661a47"
   }
  }
 },
 "nbformat": 4,
 "nbformat_minor": 2
}
