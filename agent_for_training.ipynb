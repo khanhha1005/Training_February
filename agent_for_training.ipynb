{
 "cells": [
  {
   "cell_type": "code",
   "execution_count": 16,
   "metadata": {},
   "outputs": [
    {
     "name": "stdout",
     "output_type": "stream",
     "text": [
      "/Users/trancatkhanh/Downloads/GAME\n"
     ]
    }
   ],
   "source": [
    "%cd /Users/trancatkhanh/Downloads/GAME"
   ]
  },
  {
   "cell_type": "code",
   "execution_count": 17,
   "metadata": {},
   "outputs": [],
   "source": [
    "import numpy as np\n",
    "from base.MachiKoro.env import *\n",
    "#0 Array bias trong mỗi trận\n",
    "#1 Array bias sau 100k trận \n",
    "#2 Lưu số trận \n",
    "#3 lưu hệ số đã dùng \n",
    "#4 Tỷ lệ thắng khi đấu 10k trận \n",
    "#5 Trigger để train 100k trận \n",
    "#6 Đếm số lần yếu liên tiếp\n",
    "#7 Lưu array cho policy yếu \n",
    "#8 State của trận đấu\n",
    "#9 Action của trận đấu\n",
    "#10 Reward của trận đấu\n",
    "#11 Số trận lưu state\n",
    "#12 Trigger policy yếu\n",
    "\n",
    "perx = [np.array([np.random.rand(getActionSize()) for _ in range(1)]),np.zeros((1,getActionSize())),np.zeros((1,1)),np.array([np.random.rand(getActionSize()) for _ in range(1)]),np.zeros((1,2)),np.zeros((1,2)),np.zeros((1,1)),np.array([np.random.rand(getActionSize()) for _ in range(1)]),np.zeros((2000000,getStateSize())),np.zeros((2000000,1)),np.zeros((2000000,1)),np.zeros((1,1)),np.zeros((1,2))]\n",
    "                         #0                                                      #1                   #2              #3                                                            #4              #5               #6                #7                                                               #8                                   #9               #10                       #11           #12"
   ]
  },
  {
   "attachments": {},
   "cell_type": "markdown",
   "metadata": {},
   "source": [
    "# Các hàm check tính chất của state\n"
   ]
  },
  {
   "cell_type": "code",
   "execution_count": 18,
   "metadata": {},
   "outputs": [],
   "source": [
    "import numpy as np\n",
    "@njit\n",
    "def check_min(state, reward):\n",
    "    just = np.zeros((2000000,2))\n",
    "    for i in range(len(reward)):\n",
    "        if reward[i] == -1:\n",
    "            for j in range(i,len(reward)):\n",
    "                if reward[j] != -1:\n",
    "                    reward[i] = reward[j]\n",
    "                    break\n",
    "    # replace -1 with 0\n",
    "    for i in range(len(reward)):\n",
    "        if reward[i] == -1:\n",
    "            reward[i] = 0\n",
    "    # np.mean each array in the state and the corresponding reward\n",
    "    for i in range(len(reward)):\n",
    "        just[i][0] = np.mean(state[i])\n",
    "        just[i][1] = (reward[i][0])\n",
    "    # count the number of times each value of the state appears and the reward of each value of the state\n",
    "    count = np.zeros((2000000,3))\n",
    "    for i in range(len(reward)):\n",
    "        for j in range(len(count)):\n",
    "            if just[i][0] == count[j][0]:\n",
    "                count[j][1] += 1\n",
    "                count[j][2] += just[i][1]\n",
    "                break\n",
    "            if count[j][0] == 0:\n",
    "                count[j][0] = just[i][0]\n",
    "                count[j][1] += 1\n",
    "                count[j][2] += just[i][1]\n",
    "                break\n",
    "    # find the index value the lowest rate of reward has the highest number of times appear\n",
    "    min = 0\n",
    "    for i in range(len(count)):\n",
    "        if count[i][1] > count[min][1]:\n",
    "            min = i\n",
    "    for i in range(len(count)):\n",
    "        if count[i][1] == count[min][1] and count[i][2] < count[min][2]:\n",
    "            min = i\n",
    "\n",
    "    return count[min][0]\n",
    "@njit\n",
    "def check_weaker(min,x):\n",
    "    if x == min:\n",
    "        return 1\n",
    "    else:\n",
    "        return 0\n"
   ]
  },
  {
   "attachments": {},
   "cell_type": "markdown",
   "metadata": {},
   "source": [
    "# Agent Hoàn Chỉnh"
   ]
  },
  {
   "cell_type": "code",
   "execution_count": 19,
   "metadata": {},
   "outputs": [],
   "source": [
    "@njit()\n",
    "def p_bias(state,per):\n",
    "    # Chuyển Mode gồm 3 mode mode 0 - train bias , mode 1 - test bias , mode 2 - train policy yếu ,mode 3 - test policy yếu,mode 4 - lưu state\n",
    "    if per[4][0][0] > per[5][0][1] and per[4][0][1] == 10000 and per[5][0][0] == 1:\n",
    "      per[3][0] = np.copy(per[1][0]/np.max(per[1][0]))\n",
    "      # Lưu lại kết quả thắng\n",
    "      per[5][0][1] = 0 \n",
    "      per[5][0][1] += (per[4][0][0])\n",
    "      # Rest số trận thắng và số trận đấu \n",
    "      per[4][0][0] = 0\n",
    "      per[4][0][1] = 0 \n",
    "      # Chuyển sang train bias\n",
    "      per[5][0][0] = 0 \n",
    "      per[2][0][0] = 0\n",
    "      per[1][0] = np.zeros((1,getActionSize()))\n",
    "      # Reset số lần yếu liên tiếp\n",
    "      per[6][0][0] = 0 \n",
    "    elif per[5][0][1] > per[4][0][0] and per[4][0][1] == 10000 and per[5][0][0] == 1:\n",
    "      per[6][0][0] +=1 \n",
    "      # Chuyển sang train bias\n",
    "      per[5][0][0] = 0 \n",
    "      per[2][0][0] = 0\n",
    "      per[1][0] = np.zeros((1,getActionSize()))\n",
    "      # Rest số trận thắng và số trận đấu \n",
    "      per[4][0][0] = 0\n",
    "      per[4][0][1] = 0 \n",
    "\n",
    "    # Bắt đầu mode lưu state\n",
    "    if per[6][0][0] == 3 and per[11][0][0] < 2000000 :\n",
    "      # Chuyển sang lưu state \n",
    "      per[5][0][0] = 4\n",
    "      per[2][0][0] = 0\n",
    "      # Rest số trận thắng và số trận đấu \n",
    "      per[4][0][1] = 0 \n",
    "      per[4][0][0] = 0\n",
    "      \n",
    "    # Hết mode lưu state chuyển sang train policy yếu\n",
    "    if per[5][0][0] == 4 and per[11][0][0] == 2000000:\n",
    "      per[5][0][0] = 2\n",
    "\n",
    "    # Bất đầu mode train và test policy yếu hơn\n",
    "    if per[11][0][0] == 2000000:\n",
    "      if per[4][0][0] > per[5][0][1] and per[4][0][1] == 10000 and per[5][0][0] == 3:\n",
    "        per[7][0] = np.copy(per[1][0]/np.max(per[1][0]))\n",
    "        # Lưu lại kết quả thắng\n",
    "        per[5][0][1] = 0 \n",
    "        per[5][0][1] += (per[4][0][0])\n",
    "        # Rest số trận thắng và số trận đấu \n",
    "        per[4][0][0] = 0\n",
    "        per[4][0][1] = 0 \n",
    "        # Chuyển sang train\n",
    "        per[5][0][0] = 2 \n",
    "        per[2][0][0] = 0\n",
    "        per[1][0] = np.zeros((1,getActionSize()))\n",
    "\n",
    "      elif per[5][0][1] > per[4][0][0] and per[4][0][1] == 10000 and per[5][0][0] == 3:\n",
    "        # Chuyển sang train\n",
    "        per[5][0][0] = 2 \n",
    "        per[2][0][0] = 0\n",
    "        per[1][0] = np.zeros((1,getActionSize()))\n",
    "        # Rest số trận thắng và số trận đấu \n",
    "        per[4][0][0] = 0\n",
    "        per[4][0][1] = 0 \n",
    "      \n",
    "    # reset per[1][0] sau 100k trận\n",
    "    if int(per[2][0][0]) == 100000 and per[11][0][0] < 2000000:\n",
    "      per[3][0] = np.copy(per[1][0]/np.max(per[1][0]))\n",
    "      per[2][0][0] = 0\n",
    "      per[5][0][0] = 1\n",
    "    # reset per[1][0] sau 10k trận\n",
    "    if int(per[2][0][0]) == 100000 and per[11][0][0] == 2000000:\n",
    "      per[7][0] = np.copy(per[1][0]/np.max(per[1][0]))\n",
    "      per[2][0][0] = 0\n",
    "      per[5][0][0] = 3\n",
    "      \n",
    "    if per[11][0][0] == 2000000 and per[12][0][0] == 0:\n",
    "      per[12][0][0] += check_min(per[8], per[10])\n",
    "\n",
    "    # Chế độ train bias\n",
    "    if int(per[2][0][0]) < 100000 and per[5][0][0] == 0  :\n",
    "      actions = getValidActions(state)\n",
    "      actions *= per[0][0]\n",
    "      action = np.argmax(actions)\n",
    "      if getReward(state) == 1 :\n",
    "          per[1] += per[0][0]\n",
    "      if getReward(state) == 0:\n",
    "          per[0][0] = np.random.rand(getActionSize())\n",
    "\n",
    "    # Chế độ test bias\n",
    "    elif int(per[2][0][0]) <10000  and per[5][0][0] == 1 : \n",
    "      list_action2 = getValidActions(state)\n",
    "      action = np.argmax(list_action2*per[3][0])    \n",
    "      if getReward(state) == 1:\n",
    "        per[4][0][0]+=1\n",
    "      if getReward(state) != -1:\n",
    "        per[4][0][1]+=1  \n",
    "\n",
    "    # Chế độ train policy yếu\n",
    "    elif int(per[2][0][0]) < 100000 and per[5][0][0] == 2 and per[11][0][0] == 2000000 :\n",
    "      actions = getValidActions(state)\n",
    "      # Check xem policy có yếu không \n",
    "      Check_yeu = check_weaker(per[12][0][0],np.mean(state))\n",
    "      if Check_yeu == 1:\n",
    "        per[12][0][1] = Check_yeu\n",
    "        actions *= per[0][0]\n",
    "        action = np.argmax(actions)\n",
    "      else:\n",
    "        actions *= per[3][0]\n",
    "        action = np.argmax(actions)\n",
    "      if getReward(state) == 1 and per[12][0][1] == 1:\n",
    "        per[1] += per[0][0]\n",
    "        per[12][0][1] = 0 \n",
    "      if getReward(state) == 0 and per[12][0][1] == 1:\n",
    "        per[0][0] = np.random.rand(getActionSize())\n",
    "        per[12][0][1] = 0 \n",
    "\n",
    "    # chế độ test policy yếu\n",
    "    elif int(per[2][0][0]) <10000 and  per[5][0][0] == 3 and per[11][0][0] == 2000000:\n",
    "      actions = getValidActions(state)\n",
    "      # Check xem policy có yếu không \n",
    "      if check_weaker(per[12][0][0],np.mean(state)) == 1:\n",
    "        actions *= per[7][0]\n",
    "        action = np.argmax(actions)\n",
    "      else:\n",
    "        actions *= per[3][0]\n",
    "        action = np.argmax(actions)\n",
    "      if getReward(state) == 1:\n",
    "        per[4][0][0]+=1\n",
    "      if getReward(state) != -1:\n",
    "        per[4][0][1]+=1  \n",
    "    \n",
    "\n",
    "    # Báo chuyển sang chế độ lưu state và action\n",
    "    if per[5][0][0] == 4 and per[11][0][0] < 2000000:\n",
    "      list_action2 = getValidActions(state)\n",
    "      action = np.argmax(list_action2*per[3][0]) \n",
    "\n",
    "\n",
    "    # Lưu state và action\n",
    "    if getReward(state) != -2 and per[11][0][0] < 2000000 and per[5][0][0] == 4:\n",
    "        for i in range(getStateSize()):\n",
    "          per[8][int(per[11][0][0])][i] += state[i]        \n",
    "        per[9][int(per[11][0][0])][0] += int(action)\n",
    "        per[10][int(per[11][0][0])][0] += int(getReward(state))\n",
    "        per[11][0][0] += 1\n",
    "\n",
    "    # đếm số ván đấu \n",
    "    if getReward(state) != -1 :\n",
    "        per[2][0][0] += 1\n",
    "    return action,per\n",
    "\n",
    "win, bias = numba_main_2(p_bias, 1000000,perx,0)"
   ]
  },
  {
   "cell_type": "code",
   "execution_count": null,
   "metadata": {},
   "outputs": [
    {
     "data": {
      "text/plain": [
       "array([[0.79784021, 0.75199562, 0.82261278, 0.78838267, 0.79052828,\n",
       "        0.79565535, 0.79837103, 0.79578274, 0.79445001, 0.7821219 ,\n",
       "        0.77975026, 0.78846079, 0.78619977, 0.7929032 , 0.79804748,\n",
       "        0.78130051, 0.79366103, 0.7936773 , 0.7845971 , 0.79723485,\n",
       "        0.79205496, 0.79062392, 0.79292246, 0.80331379, 0.79024906,\n",
       "        0.78935863, 0.77357922, 0.79596245, 0.78999221, 0.79677858,\n",
       "        0.7908595 , 0.79397239, 0.77996034, 0.79500048, 0.93091332,\n",
       "        1.        , 0.78042079, 0.78912611, 0.85421328, 0.89404385,\n",
       "        0.66803933, 0.72304435, 0.78471488, 0.71294605, 0.76366293,\n",
       "        0.72248261, 0.80064936, 0.78674514, 0.73705281, 0.92741798,\n",
       "        0.91809799, 0.95155101, 0.87150687, 0.25124413]])"
      ]
     },
     "execution_count": 11,
     "metadata": {},
     "output_type": "execute_result"
    }
   ],
   "source": [
    "perx[3]"
   ]
  },
  {
   "cell_type": "code",
   "execution_count": null,
   "metadata": {},
   "outputs": [
    {
     "data": {
      "text/plain": [
       "array([[0.96991   , 0.99248568, 0.95486049, 0.99154653, 0.98077082,\n",
       "        0.99291677, 0.98655239, 0.98045413, 0.9713485 , 0.96958679,\n",
       "        0.98224289, 0.98426915, 0.98311073, 1.        , 0.97282256,\n",
       "        0.96259567, 0.97581814, 0.97845296, 0.98880782, 0.97661965,\n",
       "        0.98473322, 0.98093194, 0.97338918, 0.98577039, 0.98692466,\n",
       "        0.98809835, 0.99660929, 0.98383068, 0.97965674, 0.98879893,\n",
       "        0.98717227, 0.97375038, 0.98614717, 0.97603493, 0.99377993,\n",
       "        0.98944801, 0.97965767, 0.99672918, 0.99627906, 0.98726773,\n",
       "        0.96888597, 0.99473151, 0.9938202 , 0.96784152, 0.99828557,\n",
       "        0.99221192, 0.9804512 , 0.9638414 , 0.97689938, 0.98558521,\n",
       "        0.98639662, 0.98891658, 0.96851047, 0.96823312]])"
      ]
     },
     "execution_count": 10,
     "metadata": {},
     "output_type": "execute_result"
    }
   ],
   "source": [
    "perx[7]\n"
   ]
  },
  {
   "cell_type": "code",
   "execution_count": null,
   "metadata": {},
   "outputs": [
    {
     "data": {
      "text/plain": [
       "array([[0.94444444, 0.        ]])"
      ]
     },
     "execution_count": 12,
     "metadata": {},
     "output_type": "execute_result"
    }
   ],
   "source": [
    "perx[12]"
   ]
  },
  {
   "attachments": {},
   "cell_type": "markdown",
   "metadata": {},
   "source": [
    "# Test lại tỷ lệ thắng của level 1 game MachiKoro"
   ]
  },
  {
   "attachments": {},
   "cell_type": "markdown",
   "metadata": {},
   "source": [
    "**Khi chưa khắc phục policy yếu :24551** \n",
    "\n",
    "\n",
    "**Khi đã khắc phục policy yếu :27961**"
   ]
  },
  {
   "cell_type": "code",
   "execution_count": null,
   "metadata": {},
   "outputs": [
    {
     "name": "stdout",
     "output_type": "stream",
     "text": [
      "0\n"
     ]
    }
   ],
   "source": [
    "@njit()\n",
    "def test(state,per):\n",
    "    actions = getValidActions(state)\n",
    "    # Check xem policy có yếu không \n",
    "    if check_weaker(per[12][0][0],np.mean(state)) == 1:\n",
    "      actions *= per[7][0]\n",
    "      action = np.argmax(actions)\n",
    "    else:\n",
    "      actions *= per[3][0]\n",
    "      action = np.argmax(actions)\n",
    "    return action,per\n",
    "win, bias = numba_main_2(test, 1000,perx,1)\n",
    "print(win)"
   ]
  }
 ],
 "metadata": {
  "kernelspec": {
   "display_name": "base",
   "language": "python",
   "name": "python3"
  },
  "language_info": {
   "codemirror_mode": {
    "name": "ipython",
    "version": 3
   },
   "file_extension": ".py",
   "mimetype": "text/x-python",
   "name": "python",
   "nbconvert_exporter": "python",
   "pygments_lexer": "ipython3",
   "version": "3.9.7"
  },
  "orig_nbformat": 4,
  "vscode": {
   "interpreter": {
    "hash": "ff2136a0fe6bc790f1b40d257e6b1bba23119827483ea2b7c12c8cc23c661a47"
   }
  }
 },
 "nbformat": 4,
 "nbformat_minor": 2
}
