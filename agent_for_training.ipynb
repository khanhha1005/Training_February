{
 "cells": [
  {
   "cell_type": "code",
   "execution_count": 1,
   "metadata": {},
   "outputs": [
    {
     "name": "stdout",
     "output_type": "stream",
     "text": [
      "/Users/trancatkhanh/Downloads/GAME\n"
     ]
    }
   ],
   "source": [
    "%cd /Users/trancatkhanh/Downloads/GAME"
   ]
  },
  {
   "cell_type": "code",
   "execution_count": 101,
   "metadata": {},
   "outputs": [],
   "source": [
    "import numpy as np\n",
    "from base.Splendor_v3.env import *\n",
    "#0 Array bias trong mỗi trận\n",
    "#1 Array bias sau 100k trận \n",
    "#2 Lưu  số trận \n",
    "#3 lưu hệ số đã dùng \n",
    "#4 Tỷ lệ thắng khi đấu 10k trận \n",
    "#5 Trigger để train 100k trận \n",
    "#6 Đếm số lần yếu liên tiếp\n",
    "#7 Trigger đổi sang test \n",
    "#8 State của trận đấu\n",
    "#9 Action của trận đấu\n",
    "#10 Reward của trận đấu\n",
    "#11 Số trận lưu state\n",
    "perx = [np.array([np.random.rand(getActionSize()) for _ in range(1)]),np.zeros((1,getActionSize())),np.zeros((1,1)),np.zeros((1,getActionSize())),np.zeros((1,1)),np.zeros((1,1)),np.zeros((1,1)),np.zeros((1,1)),np.zeros((200000,getStateSize())),np.zeros((200000,1)),np.zeros((200000,1)),np.zeros((1,1))]\n",
    "                         #0                                  #1                   #2              #3                    #4              #5            #6                #7"
   ]
  },
  {
   "cell_type": "code",
   "execution_count": 93,
   "metadata": {},
   "outputs": [
    {
     "data": {
      "text/plain": [
       "array([[0.60717511, 0.79608991, 0.11790519, 0.25138   , 0.42139317,\n",
       "        0.68521827, 0.16067565, 0.4657588 , 0.41978583, 0.3299895 ,\n",
       "        0.99940253, 0.13689179, 0.1233159 , 0.23669288, 0.19137109]])"
      ]
     },
     "execution_count": 93,
     "metadata": {},
     "output_type": "execute_result"
    }
   ],
   "source": [
    "perx[0][0]"
   ]
  },
  {
   "cell_type": "code",
   "execution_count": 88,
   "metadata": {},
   "outputs": [
    {
     "data": {
      "text/plain": [
       "(1, 15)"
      ]
     },
     "execution_count": 88,
     "metadata": {},
     "output_type": "execute_result"
    }
   ],
   "source": [
    "perx[1].shape"
   ]
  },
  {
   "cell_type": "code",
   "execution_count": 102,
   "metadata": {},
   "outputs": [
    {
     "ename": "",
     "evalue": "",
     "output_type": "error",
     "traceback": [
      "\u001b[1;31mThe Kernel crashed while executing code in the the current cell or a previous cell. Please review the code in the cell(s) to identify a possible cause of the failure. Click <a href='https://aka.ms/vscodeJupyterKernelCrash'>here</a> for more info. View Jupyter <a href='command:jupyter.viewOutput'>log</a> for further details."
     ]
    },
    {
     "ename": "",
     "evalue": "",
     "output_type": "error",
     "traceback": [
      "\u001b[1;31mCanceled future for execute_request message before replies were done"
     ]
    }
   ],
   "source": [
    "@njit()\n",
    "def p_bias(state,per):\n",
    "    # Chuyển sang hệ số khác và đếm số lần yếu hơn \n",
    "    # if per[5][0] > per[4][0] :\n",
    "    #   per[3] = np.copy(per[1]/np.max(per[1]))\n",
    "    #   per[4] = np.copy(per[5])\n",
    "    #   per[5][0] = 0 \n",
    "    #   per[6][0] = 0\n",
    "    # elif per[5][0] < per[4][0] and int(per[2][0]) == 22000:\n",
    "    #   per[6][0] +=1 \n",
    "    #   per[5][0] = 0 \n",
    "\n",
    "    # # train 200k trận vs 20k trận test\n",
    "    # if (int(per[2][0]) < 10000) or (int(per[2][0]) >= 11000 and int(per[2][0]) <21000) or (per[6][0]>=1):\n",
    "    actions = getValidActions(state)\n",
    "    actions *= per[0][0]\n",
    "    action = np.argmax(actions)\n",
    "    # if getReward(state) == 1 :\n",
    "    #     per[1] += per[0]\n",
    "    # if getReward(state) == 0:\n",
    "    #     per[0] = np.random.rand(getActionSize())\n",
    "    # elif (int(per[2][0]) >= 10000 and int(per[2][0]) < 11000):\n",
    "    #   list_action2 = getValidActions(state)\n",
    "    #   per[3] = np.copy(per[1]/np.max(per[1]))\n",
    "    #   action = np.argmax(list_action2*per[3])    \n",
    "    #   if getReward(state) == 1:\n",
    "    #       per[4][0]+=1\n",
    "    # elif (int(per[2][0]) >= 21000 and int(per[2][0]) < 22000) :\n",
    "    #   list_action2 = getValidActions(state)\n",
    "    #   bias_greedy = per[1]/np.max(per[1])\n",
    "    #   action = np.argmax(list_action2*bias_greedy)    \n",
    "    #   if getReward(state) == 1:\n",
    "    #       per[5][0]+=1\n",
    "    # elif per[6][0] == 3:\n",
    "    #   print('Dừng xong đến bước 1,2,3')\n",
    "    # Lưu state và action\n",
    "    if getReward(state) != -2:\n",
    "        per[11][0][0] += 1\n",
    "        for i in range(getStateSize()):\n",
    "          per[8][int(per[11][0][0])][i] += state[i]        \n",
    "        # per[9][int(per[11][0][0])][0] += int(action)\n",
    "        # per[10][int(per[11][0][0])][0] += int(getReward(state))\n",
    "\n",
    "    # đếm số ván đấu \n",
    "    # if getReward(state) != -1 :\n",
    "    #     per[2][0] += 1\n",
    "    return action,per\n",
    "\n",
    "win, bias = numba_main_2(p_bias, 10000,perx,0)"
   ]
  }
 ],
 "metadata": {
  "kernelspec": {
   "display_name": "Python 3",
   "language": "python",
   "name": "python3"
  },
  "language_info": {
   "codemirror_mode": {
    "name": "ipython",
    "version": 3
   },
   "file_extension": ".py",
   "mimetype": "text/x-python",
   "name": "python",
   "nbconvert_exporter": "python",
   "pygments_lexer": "ipython3",
   "version": "3.9.7"
  },
  "orig_nbformat": 4,
  "vscode": {
   "interpreter": {
    "hash": "aee8b7b246df8f9039afb4144a1f6fd8d2ca17a180786b69acc140d282b71a49"
   }
  }
 },
 "nbformat": 4,
 "nbformat_minor": 2
}
