{
 "cells": [
  {
   "cell_type": "code",
   "execution_count": 1,
   "metadata": {},
   "outputs": [
    {
     "name": "stdout",
     "output_type": "stream",
     "text": [
      "/Users/trancatkhanh/Downloads/GAME\n"
     ]
    }
   ],
   "source": [
    "%cd /Users/trancatkhanh/Downloads/GAME"
   ]
  },
  {
   "cell_type": "code",
   "execution_count": 2,
   "metadata": {},
   "outputs": [],
   "source": [
    "import numpy as np\n",
    "from base.Splendor_v3.env import *\n",
    "#0 Array bias trong mỗi trận\n",
    "#1 Array bias sau 100k trận \n",
    "#2 Lưu số trận \n",
    "#3 lưu hệ số đã dùng \n",
    "#4 Tỷ lệ thắng khi đấu 10k trận \n",
    "#5 Trigger để train 100k trận \n",
    "#6 Đếm số lần yếu liên tiếp\n",
    "#7 Lưu array bias mới\n",
    "#8 State của trận đấu\n",
    "#9 Action của trận đấu\n",
    "#10 Reward của trận đấu\n",
    "#11 Số trận lưu state\n",
    "#12 Số trận thắng của hệ số mới \n",
    "\n",
    "perx = [np.array([np.random.rand(getActionSize()) for _ in range(1)]),np.zeros((1,getActionSize())),np.zeros((1,1)),np.array([np.random.rand(getActionSize()) for _ in range(1)]),np.zeros((1,2)),np.zeros((1,2)),np.zeros((1,1)),np.array([np.random.rand(getActionSize()) for _ in range(1)]),np.zeros((200000,getStateSize())),np.zeros((200000,1)),np.zeros((200000,1)),np.zeros((1,1))]\n",
    "                         #0                                                      #1                   #2              #3                                                            #4              #5               #6                #7                                                               #8                                   #9               #10                       #11         "
   ]
  },
  {
   "cell_type": "code",
   "execution_count": 52,
   "metadata": {},
   "outputs": [],
   "source": [
    "@njit()\n",
    "def p_bias(state,per):\n",
    "    # Chuyển Mode gồm 3 mode mode 0 - train , mode 1 - test , mode 2 - train policy yếu ,mode 3 - test policy yếu,mode 4 - lưu state\n",
    "    if per[4][0][0] > per[5][0][1] and per[4][0][1] == 1000:\n",
    "      per[3][0] = np.copy(per[1][0]/np.max(per[1][0]))\n",
    "      # Lưu lại kết quả thắng\n",
    "      per[5][0][1] = 0 \n",
    "      per[5][0][1] += (per[4][0][0])\n",
    "      # Rest số trận thắng và số trận đấu \n",
    "      per[4][0][0] = 0\n",
    "      per[4][0][1] = 0 \n",
    "      # Chuyển sang train\n",
    "      per[5][0][0] = 0 \n",
    "      per[2][0][0] = 0\n",
    "      per[1][0] = np.zeros((1,getActionSize()))\n",
    "      # Reset số lần yếu liên tiếp\n",
    "      per[6][0][0] = 0 \n",
    "    elif per[5][0][1] > per[4][0][0] and per[4][0][1] == 1000:\n",
    "      per[6][0][0] +=1 \n",
    "      # Chuyển sang train\n",
    "      per[5][0][0] = 0 \n",
    "      per[2][0][0] = 0\n",
    "      per[1][0] = np.zeros((1,getActionSize()))\n",
    "      # Rest số trận thắng và số trận đấu \n",
    "      per[4][0][0] = 0\n",
    "      per[4][0][1] = 0 \n",
    "    if per[6][0][0] == 3 and per[11][0][0] < 200000 :\n",
    "      per[5][0][0] = 4\n",
    "      per[2][0][0] = 0\n",
    "      per[4][0][0] = 0\n",
    "      per[4][0][1] = 0 \n",
    "      per[5][0][1] = 0 \n",
    "\n",
    "    if per[11][0][0] == 200000:\n",
    "      if per[4][0][0] > per[5][0][1] and per[4][0][1] == 1000:\n",
    "        per[3][0] = np.copy(per[1][0]/np.max(per[1][0]))\n",
    "        # Lưu lại kết quả thắng\n",
    "        per[5][0][1] = 0 \n",
    "        per[5][0][1] += (per[4][0][0])\n",
    "        # Rest số trận thắng và số trận đấu \n",
    "        per[4][0][0] = 0\n",
    "        per[4][0][1] = 0 \n",
    "        # Chuyển sang train\n",
    "        per[5][0][0] = 2 \n",
    "        per[2][0][0] = 0\n",
    "        per[1][0] = np.zeros((1,getActionSize()))\n",
    "\n",
    "      elif per[5][0][1] > per[4][0][0] and per[4][0][1] == 1000:\n",
    "        # Chuyển sang train\n",
    "        per[5][0][0] = 2 \n",
    "        per[2][0][0] = 0\n",
    "        per[1][0] = np.zeros((1,getActionSize()))\n",
    "        # Rest số trận thắng và số trận đấu \n",
    "        per[4][0][0] = 0\n",
    "        per[4][0][1] = 0 \n",
    "      \n",
    "    # reset per[1][0] sau 10k trận\n",
    "    if int(per[2][0][0]) == 10000 and per[11][0][0] < 200000:\n",
    "      per[3][0] = np.copy(per[1][0]/np.max(per[1][0]))\n",
    "      per[2][0][0] = 0\n",
    "      per[5][0][0] = 1\n",
    "    # reset per[1][0] sau 10k trận\n",
    "    if int(per[2][0][0]) == 10000 and  per[11][0][0] == 200000:\n",
    "      per[7][0] = np.copy(per[1][0]/np.max(per[1][0]))\n",
    "      per[2][0][0] = 0\n",
    "      per[5][0][0] = 2\n",
    "\n",
    "\n",
    "    # Chế độ train \n",
    "    if int(per[2][0][0]) < 10000 and per[5][0][0] == 0  :\n",
    "      actions = getValidActions(state)\n",
    "      actions *= per[0][0]\n",
    "      action = np.argmax(actions)\n",
    "      if getReward(state) == 1 :\n",
    "          per[1] += per[0][0]\n",
    "      if getReward(state) == 0:\n",
    "          per[0][0] = np.random.rand(getActionSize())\n",
    "\n",
    "    # Chế độ test \n",
    "    elif int(per[2][0][0]) <1000  and per[5][0][0] == 1 : \n",
    "      list_action2 = getValidActions(state)\n",
    "      action = np.argmax(list_action2*per[3][0])    \n",
    "      if getReward(state) == 1:\n",
    "        per[4][0][0]+=1\n",
    "      if getReward(state) != -1:\n",
    "        per[4][0][1]+=1  \n",
    "\n",
    "    # Chế độ train policy yếu\n",
    "    elif int(per[2][0][0]) < 10000 and per[5][0][0] == 2 and per[11][0][0] == 200000 :\n",
    "      actions = getValidActions(state)\n",
    "      # Check xem policy có yếu không \n",
    "      Check_yeu = check_weaker(per[8],per[10],np.mean(state))\n",
    "      if Check_yeu == 1:\n",
    "        actions *= per[7][0]\n",
    "        action = np.argmax(actions)\n",
    "      else:\n",
    "        actions *= per[3][0]\n",
    "        action = np.argmax(actions)\n",
    "      if getReward(state) == 1 and Check_yeu == 1:\n",
    "        per[1] += per[0][0]\n",
    "      if getReward(state) == 0 and Check_yeu == 1:\n",
    "        per[0][0] = np.random.rand(getActionSize())\n",
    "\n",
    "    # chế độ test policy yếu\n",
    "    elif int(per[2][0][0]) <1000 and  per[5][0][0] == 3 and per[11][0][0] == 200000:\n",
    "      actions = getValidActions(state)\n",
    "      # Check xem policy có yếu không \n",
    "      if check_weaker(per[8],per[10],np.mean(state)) == 1:\n",
    "        actions *= per[7][0]\n",
    "        action = np.argmax(actions)\n",
    "      else:\n",
    "        actions *= per[3][0]\n",
    "        action = np.argmax(actions)\n",
    "\n",
    "      if getReward(state) == 1:\n",
    "        per[4][0][0]+=1\n",
    "      if getReward(state) != -1:\n",
    "        per[4][0][1]+=1  \n",
    "\n",
    "\n",
    "    # Báo chuyển sang chế độ lưu state và action\n",
    "    if per[5][0][0] == 4 and per[11][0][0] < 200000:\n",
    "      list_action2 = getValidActions(state)\n",
    "      action = np.argmax(list_action2*per[3][0]) \n",
    "\n",
    "\n",
    "    # Lưu state và action\n",
    "    if getReward(state) != -2 and per[11][0][0] < 200000 and per[5][0][0] == 4:\n",
    "        for i in range(getStateSize()):\n",
    "          per[8][int(per[11][0][0])][i] += state[i]        \n",
    "        per[9][int(per[11][0][0])][0] += int(action)\n",
    "        per[10][int(per[11][0][0])][0] += int(getReward(state))\n",
    "        per[11][0][0] += 1\n",
    "\n",
    "    # đếm số ván đấu \n",
    "    if getReward(state) != -1 :\n",
    "        per[2][0][0] += 1\n",
    "    return action,per\n",
    "\n",
    "win, bias = numba_main_2(p_bias, 200000,perx,0)"
   ]
  },
  {
   "cell_type": "code",
   "execution_count": 6,
   "metadata": {},
   "outputs": [
    {
     "data": {
      "text/plain": [
       "[array([[0.94900992, 0.40977139, 0.07858101, 0.58209774, 0.68403631,\n",
       "         0.92401723, 0.13734011, 0.5904795 , 0.69805685, 0.40462962,\n",
       "         0.70454175, 0.73464741, 0.02097298, 0.97108613, 0.73560333]]),\n",
       " array([[10514.76952456, 10529.55803325, 10639.62142059, 10434.67135843,\n",
       "         10566.66630314, 10448.94897331, 10546.91735148, 10553.55653341,\n",
       "         10557.14596754, 10469.36782552, 10488.26117659, 10511.3954308 ,\n",
       "         10583.21227856, 10601.7057745 , 10624.04469232]]),\n",
       " array([[8955.]]),\n",
       " array([[0.91955908, 0.96984015, 1.        , 0.98064523, 0.91634293,\n",
       "         0.91563015, 0.90908202, 0.90863418, 0.90771886, 0.91469945,\n",
       "         0.90298689, 0.89578282, 0.95053939, 0.91049627, 0.90138285]]),\n",
       " array([[0., 0.]]),\n",
       " array([[2., 0.]]),\n",
       " array([[3.]]),\n",
       " array([[0.9852591 , 0.97970469, 1.        , 0.9754359 , 0.9828443 ,\n",
       "         0.97749908, 0.98786641, 0.97924964, 0.98311394, 0.97538141,\n",
       "         0.98157335, 0.97908724, 0.9938992 , 0.9839412 , 0.99407309]]),\n",
       " array([[ 7.,  7.,  7., ...,  1., 12.,  0.],\n",
       "        [ 5.,  5.,  7., ...,  1., 12.,  0.],\n",
       "        [ 4.,  3.,  3., ...,  1., 12.,  0.],\n",
       "        ...,\n",
       "        [ 2.,  1.,  3., ...,  1., 12.,  0.],\n",
       "        [ 3.,  0.,  1., ...,  1., 12.,  0.],\n",
       "        [ 3.,  0.,  0., ...,  1., 12.,  0.]]),\n",
       " array([[2.],\n",
       "        [2.],\n",
       "        [2.],\n",
       "        ...,\n",
       "        [2.],\n",
       "        [2.],\n",
       "        [2.]]),\n",
       " array([[-1.],\n",
       "        [-1.],\n",
       "        [-1.],\n",
       "        ...,\n",
       "        [-1.],\n",
       "        [-1.],\n",
       "        [-1.]]),\n",
       " array([[200000.]])]"
      ]
     },
     "execution_count": 6,
     "metadata": {},
     "output_type": "execute_result"
    }
   ],
   "source": [
    "perx"
   ]
  },
  {
   "cell_type": "code",
   "execution_count": 28,
   "metadata": {},
   "outputs": [
    {
     "data": {
      "text/plain": [
       "1.391304347826087"
      ]
     },
     "execution_count": 28,
     "metadata": {},
     "output_type": "execute_result"
    }
   ],
   "source": [
    "np.mean(perx[8][1])"
   ]
  },
  {
   "cell_type": "code",
   "execution_count": 25,
   "metadata": {},
   "outputs": [
    {
     "data": {
      "text/plain": [
       "0.0"
      ]
     },
     "execution_count": 25,
     "metadata": {},
     "output_type": "execute_result"
    }
   ],
   "source": [
    "pr = np.zeros((200000,3))\n",
    "pr[200][0]"
   ]
  },
  {
   "cell_type": "code",
   "execution_count": 34,
   "metadata": {},
   "outputs": [
    {
     "data": {
      "text/plain": [
       "0.0"
      ]
     },
     "execution_count": 34,
     "metadata": {},
     "output_type": "execute_result"
    }
   ],
   "source": [
    "j = np.zeros((200000,2))\n",
    "j[1][0]"
   ]
  },
  {
   "cell_type": "code",
   "execution_count": 50,
   "metadata": {},
   "outputs": [],
   "source": [
    "import numpy as np\n",
    "@njit\n",
    "def check_weaker(state, reward,x):\n",
    "    just = np.zeros((200000,2))\n",
    "    for i in range(len(reward)):\n",
    "        if reward[i] == -1:\n",
    "            for j in range(i,len(reward)):\n",
    "                if reward[j] != -1:\n",
    "                    reward[i] = reward[j]\n",
    "                    break\n",
    "    # np.mean each array in the state and the corresponding reward\n",
    "    for i in range(len(reward)):\n",
    "        just[i][0] = np.mean(state[i])\n",
    "        just[i][1] = (reward[i][0])\n",
    "    # count the number of times each value of the state appears and the reward of each value of the state\n",
    "    count = np.zeros((200000,3))\n",
    "    for i in range(len(reward)):\n",
    "        for j in range(len(count)):\n",
    "            if just[i][0] == count[j][0]:\n",
    "                count[j][1] += 1\n",
    "                count[j][2] += just[i][1]\n",
    "                break\n",
    "            if count[j][0] == 0:\n",
    "                count[j][0] = just[i][0]\n",
    "                count[j][1] += 1\n",
    "                count[j][2] += just[i][1]\n",
    "                break\n",
    "    # find the value the lowest average reward\n",
    "    min = 0\n",
    "    for i in range(len(count)):\n",
    "        if count[i][2] != 0:\n",
    "            min = count[i][2]/count[i][1]\n",
    "            break\n",
    "    if x == min:\n",
    "        return 1\n",
    "    else:\n",
    "        return 0\n"
   ]
  },
  {
   "cell_type": "code",
   "execution_count": 48,
   "metadata": {},
   "outputs": [
    {
     "data": {
      "text/plain": [
       "2035.0"
      ]
     },
     "execution_count": 48,
     "metadata": {},
     "output_type": "execute_result"
    }
   ],
   "source": [
    " 2.03500000e+03"
   ]
  },
  {
   "cell_type": "code",
   "execution_count": 47,
   "metadata": {},
   "outputs": [
    {
     "data": {
      "text/plain": [
       "3836.0"
      ]
     },
     "execution_count": 47,
     "metadata": {},
     "output_type": "execute_result"
    }
   ],
   "source": [
    "3.83600000e+03"
   ]
  },
  {
   "cell_type": "code",
   "execution_count": 67,
   "metadata": {},
   "outputs": [
    {
     "data": {
      "text/plain": [
       "array([[ 2.,  2.,  6., ...,  1., 12.,  0.],\n",
       "       [ 1.,  2.,  4., ...,  1., 12.,  0.],\n",
       "       [ 0.,  0.,  2., ...,  1., 12.,  0.],\n",
       "       ...,\n",
       "       [ 5.,  1.,  2., ...,  1., 12.,  0.],\n",
       "       [ 3.,  3.,  2., ...,  1., 12.,  0.],\n",
       "       [ 4.,  1.,  3., ...,  1., 12.,  0.]])"
      ]
     },
     "execution_count": 67,
     "metadata": {},
     "output_type": "execute_result"
    }
   ],
   "source": [
    "perx[8]"
   ]
  },
  {
   "cell_type": "code",
   "execution_count": 52,
   "metadata": {},
   "outputs": [
    {
     "data": {
      "text/plain": [
       "array([[ 0.,  0.,  0., ...,  0.,  0.,  0.],\n",
       "       [ 1.,  1.,  1., ...,  1.,  1.,  1.],\n",
       "       [ 1.,  1.,  1., ...,  1.,  1.,  1.],\n",
       "       ...,\n",
       "       [-2., -2., -2., ..., -2., -2., -2.],\n",
       "       [-2., -2., -2., ..., -2., -2., -2.],\n",
       "       [-2., -2., -2., ..., -2., -2., -2.]])"
      ]
     },
     "execution_count": 52,
     "metadata": {},
     "output_type": "execute_result"
    }
   ],
   "source": [
    "perx[8]"
   ]
  },
  {
   "cell_type": "code",
   "execution_count": 50,
   "metadata": {},
   "outputs": [
    {
     "data": {
      "text/plain": [
       "array([1., 1., 1., 1., 1., 1., 1., 1., 1., 1., 1., 1., 1., 1., 1., 1., 1.,\n",
       "       1., 1., 1., 1., 1., 1., 1., 1., 1., 1., 1., 1., 1., 1., 1., 1., 1.,\n",
       "       1., 1., 1., 1., 1., 1., 1., 1., 1., 1., 1., 1., 1., 1., 1., 1., 1.,\n",
       "       1., 1., 1., 1., 1., 1., 1., 1., 1., 1., 1., 1., 1., 1., 1., 1., 1.,\n",
       "       1., 1., 1., 1., 1., 1., 1., 1., 1., 1., 1., 1., 1., 1., 1., 1., 1.,\n",
       "       1., 1., 1., 1., 1., 1., 1., 1., 1., 1., 1., 1., 1., 1., 1., 1., 1.,\n",
       "       1., 1., 1., 1., 1., 1., 1., 1., 1., 1., 1., 1., 1., 1., 1., 1., 1.,\n",
       "       1., 1., 1., 1., 1., 1., 1., 1., 1., 1., 1., 1., 1., 1., 1., 1., 1.,\n",
       "       1., 1., 1., 1., 1., 1., 1., 1., 1., 1., 1., 1., 1., 1., 1., 1., 1.,\n",
       "       1., 1., 1., 1., 1., 1., 1., 1.])"
      ]
     },
     "execution_count": 50,
     "metadata": {},
     "output_type": "execute_result"
    }
   ],
   "source": [
    "l[:-1,-1]"
   ]
  },
  {
   "cell_type": "code",
   "execution_count": 30,
   "metadata": {},
   "outputs": [
    {
     "data": {
      "text/plain": [
       "array([[ 0.,  0.,  0., ...,  0.,  0.,  0.],\n",
       "       [ 5.,  5.,  3., ...,  1., 12.,  0.],\n",
       "       [ 3.,  1.,  1., ...,  1., 12.,  0.],\n",
       "       ...,\n",
       "       [ 0.,  0.,  0., ...,  1., 10.,  0.],\n",
       "       [ 0.,  2.,  0., ...,  1.,  9.,  0.],\n",
       "       [ 4.,  5.,  1., ...,  1.,  9.,  0.]])"
      ]
     },
     "execution_count": 30,
     "metadata": {},
     "output_type": "execute_result"
    }
   ],
   "source": [
    "perx[8]"
   ]
  },
  {
   "cell_type": "code",
   "execution_count": 75,
   "metadata": {},
   "outputs": [
    {
     "data": {
      "text/plain": [
       "array([[0.],\n",
       "       [0.],\n",
       "       [0.],\n",
       "       ...,\n",
       "       [0.],\n",
       "       [0.],\n",
       "       [0.]])"
      ]
     },
     "execution_count": 75,
     "metadata": {},
     "output_type": "execute_result"
    }
   ],
   "source": [
    "perx[10]"
   ]
  },
  {
   "cell_type": "code",
   "execution_count": 74,
   "metadata": {},
   "outputs": [
    {
     "data": {
      "text/plain": [
       "array([[ 0.,  0.,  0., ...,  0.,  0.,  0.],\n",
       "       [ 7.,  7.,  7., ...,  1., 12.,  0.],\n",
       "       [ 2.,  6.,  7., ...,  1., 12.,  0.],\n",
       "       ...,\n",
       "       [ 0.,  0.,  0., ...,  0.,  0.,  0.],\n",
       "       [ 0.,  0.,  0., ...,  0.,  0.,  0.],\n",
       "       [ 0.,  0.,  0., ...,  0.,  0.,  0.]])"
      ]
     },
     "execution_count": 74,
     "metadata": {},
     "output_type": "execute_result"
    }
   ],
   "source": [
    "perx[8]\n"
   ]
  },
  {
   "cell_type": "code",
   "execution_count": 72,
   "metadata": {},
   "outputs": [
    {
     "ename": "TypingError",
     "evalue": "Failed in nopython mode pipeline (step: nopython frontend)\n\u001b[1m\u001b[1m\u001b[1mNo implementation of function Function(<function sum at 0x7fa54077d8b0>) found for signature:\n \n >>> sum(float64)\n \nThere are 2 candidate implementations:\n\u001b[1m      - Of which 2 did not match due to:\n      Overload of function 'sum': File: numba/core/typing/npydecl.py: Line 378.\n        With argument(s): '(float64)':\u001b[0m\n\u001b[1m       No match.\u001b[0m\n\u001b[0m\n\u001b[0m\u001b[1mDuring: resolving callee type: Function(<function sum at 0x7fa54077d8b0>)\u001b[0m\n\u001b[0m\u001b[1mDuring: typing of call at /var/folders/ds/4lcv95w11y7brm6dqhc04s240000gn/T/ipykernel_46954/2782407322.py (14)\n\u001b[0m\n\u001b[1m\nFile \"../../../../var/folders/ds/4lcv95w11y7brm6dqhc04s240000gn/T/ipykernel_46954/2782407322.py\", line 14:\u001b[0m\n\u001b[1m<source missing, REPL/exec in use?>\u001b[0m\n",
     "output_type": "error",
     "traceback": [
      "\u001b[0;31m---------------------------------------------------------------------------\u001b[0m",
      "\u001b[0;31mTypingError\u001b[0m                               Traceback (most recent call last)",
      "\u001b[0;32m/var/folders/ds/4lcv95w11y7brm6dqhc04s240000gn/T/ipykernel_46954/2782407322.py\u001b[0m in \u001b[0;36m<module>\u001b[0;34m\u001b[0m\n\u001b[1;32m     36\u001b[0m \u001b[0;34m\u001b[0m\u001b[0m\n\u001b[1;32m     37\u001b[0m   \u001b[0;32mreturn\u001b[0m \u001b[0mimportant_feature\u001b[0m\u001b[0;34m,\u001b[0m \u001b[0mimportant_feature_value\u001b[0m\u001b[0;34m,\u001b[0m \u001b[0mlowest_percentage\u001b[0m\u001b[0;34m\u001b[0m\u001b[0;34m\u001b[0m\u001b[0m\n\u001b[0;32m---> 38\u001b[0;31m \u001b[0mfind_important_feature\u001b[0m\u001b[0;34m(\u001b[0m\u001b[0mperx\u001b[0m\u001b[0;34m[\u001b[0m\u001b[0;36m8\u001b[0m\u001b[0;34m]\u001b[0m\u001b[0;34m,\u001b[0m \u001b[0mperx\u001b[0m\u001b[0;34m[\u001b[0m\u001b[0;36m10\u001b[0m\u001b[0;34m]\u001b[0m\u001b[0;34m)\u001b[0m\u001b[0;34m\u001b[0m\u001b[0;34m\u001b[0m\u001b[0m\n\u001b[0m",
      "\u001b[0;32m~/opt/anaconda3/lib/python3.9/site-packages/numba/core/dispatcher.py\u001b[0m in \u001b[0;36m_compile_for_args\u001b[0;34m(self, *args, **kws)\u001b[0m\n\u001b[1;32m    480\u001b[0m                 \u001b[0me\u001b[0m\u001b[0;34m.\u001b[0m\u001b[0mpatch_message\u001b[0m\u001b[0;34m(\u001b[0m\u001b[0mmsg\u001b[0m\u001b[0;34m)\u001b[0m\u001b[0;34m\u001b[0m\u001b[0;34m\u001b[0m\u001b[0m\n\u001b[1;32m    481\u001b[0m \u001b[0;34m\u001b[0m\u001b[0m\n\u001b[0;32m--> 482\u001b[0;31m             \u001b[0merror_rewrite\u001b[0m\u001b[0;34m(\u001b[0m\u001b[0me\u001b[0m\u001b[0;34m,\u001b[0m \u001b[0;34m'typing'\u001b[0m\u001b[0;34m)\u001b[0m\u001b[0;34m\u001b[0m\u001b[0;34m\u001b[0m\u001b[0m\n\u001b[0m\u001b[1;32m    483\u001b[0m         \u001b[0;32mexcept\u001b[0m \u001b[0merrors\u001b[0m\u001b[0;34m.\u001b[0m\u001b[0mUnsupportedError\u001b[0m \u001b[0;32mas\u001b[0m \u001b[0me\u001b[0m\u001b[0;34m:\u001b[0m\u001b[0;34m\u001b[0m\u001b[0;34m\u001b[0m\u001b[0m\n\u001b[1;32m    484\u001b[0m             \u001b[0;31m# Something unsupported is present in the user code, add help info\u001b[0m\u001b[0;34m\u001b[0m\u001b[0;34m\u001b[0m\u001b[0m\n",
      "\u001b[0;32m~/opt/anaconda3/lib/python3.9/site-packages/numba/core/dispatcher.py\u001b[0m in \u001b[0;36merror_rewrite\u001b[0;34m(e, issue_type)\u001b[0m\n\u001b[1;32m    421\u001b[0m                 \u001b[0;32mraise\u001b[0m \u001b[0me\u001b[0m\u001b[0;34m\u001b[0m\u001b[0;34m\u001b[0m\u001b[0m\n\u001b[1;32m    422\u001b[0m             \u001b[0;32melse\u001b[0m\u001b[0;34m:\u001b[0m\u001b[0;34m\u001b[0m\u001b[0;34m\u001b[0m\u001b[0m\n\u001b[0;32m--> 423\u001b[0;31m                 \u001b[0;32mraise\u001b[0m \u001b[0me\u001b[0m\u001b[0;34m.\u001b[0m\u001b[0mwith_traceback\u001b[0m\u001b[0;34m(\u001b[0m\u001b[0;32mNone\u001b[0m\u001b[0;34m)\u001b[0m\u001b[0;34m\u001b[0m\u001b[0;34m\u001b[0m\u001b[0m\n\u001b[0m\u001b[1;32m    424\u001b[0m \u001b[0;34m\u001b[0m\u001b[0m\n\u001b[1;32m    425\u001b[0m         \u001b[0margtypes\u001b[0m \u001b[0;34m=\u001b[0m \u001b[0;34m[\u001b[0m\u001b[0;34m]\u001b[0m\u001b[0;34m\u001b[0m\u001b[0;34m\u001b[0m\u001b[0m\n",
      "\u001b[0;31mTypingError\u001b[0m: Failed in nopython mode pipeline (step: nopython frontend)\n\u001b[1m\u001b[1m\u001b[1mNo implementation of function Function(<function sum at 0x7fa54077d8b0>) found for signature:\n \n >>> sum(float64)\n \nThere are 2 candidate implementations:\n\u001b[1m      - Of which 2 did not match due to:\n      Overload of function 'sum': File: numba/core/typing/npydecl.py: Line 378.\n        With argument(s): '(float64)':\u001b[0m\n\u001b[1m       No match.\u001b[0m\n\u001b[0m\n\u001b[0m\u001b[1mDuring: resolving callee type: Function(<function sum at 0x7fa54077d8b0>)\u001b[0m\n\u001b[0m\u001b[1mDuring: typing of call at /var/folders/ds/4lcv95w11y7brm6dqhc04s240000gn/T/ipykernel_46954/2782407322.py (14)\n\u001b[0m\n\u001b[1m\nFile \"../../../../var/folders/ds/4lcv95w11y7brm6dqhc04s240000gn/T/ipykernel_46954/2782407322.py\", line 14:\u001b[0m\n\u001b[1m<source missing, REPL/exec in use?>\u001b[0m\n"
     ]
    }
   ],
   "source": [
    "import numba\n",
    "import numpy as np\n",
    "\n",
    "@numba.njit\n",
    "def find_important_feature(state, reward):\n",
    "  n_features = state.shape[1]\n",
    "  feature_count = np.zeros(n_features, dtype=np.int64)\n",
    "  feature_value_count = [{} for _ in range(n_features)]\n",
    "  \n",
    "  for i in range(n_features):\n",
    "    \n",
    "    unique_values, counts = np.unique(state[:, i])\n",
    "    print(counts)\n",
    "    feature_count[i] = np.sum(counts)\n",
    "    \n",
    "    for value, count in zip(unique_values, counts):\n",
    "      if value not in feature_value_count[i]:\n",
    "        feature_value_count[i][value] = {\"count\": 0, \"reward_count\": 0}\n",
    "        \n",
    "      feature_value_count[i][value][\"count\"] = count\n",
    "      feature_value_count[i][value][\"reward_count\"] = np.sum(reward[state[:, i] == value])\n",
    "  \n",
    "  important_feature = None\n",
    "  important_feature_value = None\n",
    "  lowest_percentage = 1\n",
    "  \n",
    "  for i in range(n_features):\n",
    "    for value, count_data in feature_value_count[i].items():\n",
    "      count = count_data[\"count\"]\n",
    "      reward_count = count_data[\"reward_count\"]\n",
    "      percentage = reward_count / count\n",
    "      \n",
    "      if percentage < lowest_percentage:\n",
    "        lowest_percentage = percentage\n",
    "        important_feature_value = value\n",
    "  \n",
    "  return important_feature, important_feature_value, lowest_percentage\n",
    "find_important_feature(perx[8], perx[10])\n"
   ]
  },
  {
   "cell_type": "code",
   "execution_count": 59,
   "metadata": {},
   "outputs": [
    {
     "ename": "TypingError",
     "evalue": "Failed in nopython mode pipeline (step: nopython frontend)\n\u001b[1m\u001b[1m\u001b[1mNo implementation of function Function(<built-in function array>) found for signature:\n \n >>> array(array(float64, 2d, C))\n \nThere are 4 candidate implementations:\n\u001b[1m      - Of which 4 did not match due to:\n      Overload in function '_OverloadWrapper._build.<locals>.ol_generated': File: numba/core/overload_glue.py: Line 131.\n        With argument(s): '(array(float64, 2d, C))':\u001b[0m\n\u001b[1m       Rejected as the implementation raised a specific error:\n         TypingError: Failed in nopython mode pipeline (step: nopython frontend)\n       \u001b[1m\u001b[1m\u001b[1mNo implementation of function Function(<intrinsic stub>) found for signature:\n        \n        >>> stub(array(float64, 2d, C))\n        \n       There are 2 candidate implementations:\n       \u001b[1m  - Of which 2 did not match due to:\n         Intrinsic in function 'stub': File: numba/core/overload_glue.py: Line 35.\n           With argument(s): '(array(float64, 2d, C))':\u001b[0m\n       \u001b[1m   Rejected as the implementation raised a specific error:\n            TypingError: \u001b[1marray(float64, 2d, C) not allowed in a homogeneous sequence\u001b[0m\u001b[0m\n         raised from /Users/trancatkhanh/opt/anaconda3/lib/python3.9/site-packages/numba/core/typing/npydecl.py:487\n       \u001b[0m\n       \u001b[0m\u001b[1mDuring: resolving callee type: Function(<intrinsic stub>)\u001b[0m\n       \u001b[0m\u001b[1mDuring: typing of call at <string> (3)\n       \u001b[0m\n       \u001b[1m\n       File \"<string>\", line 3:\u001b[0m\n       \u001b[1m<source missing, REPL/exec in use?>\u001b[0m\n\u001b[0m\n  raised from /Users/trancatkhanh/opt/anaconda3/lib/python3.9/site-packages/numba/core/typeinfer.py:1074\n\u001b[0m\n\u001b[0m\u001b[1mDuring: resolving callee type: Function(<built-in function array>)\u001b[0m\n\u001b[0m\u001b[1mDuring: typing of call at /var/folders/ds/4lcv95w11y7brm6dqhc04s240000gn/T/ipykernel_46954/55932719.py (8)\n\u001b[0m\n\u001b[1m\nFile \"../../../../var/folders/ds/4lcv95w11y7brm6dqhc04s240000gn/T/ipykernel_46954/55932719.py\", line 8:\u001b[0m\n\u001b[1m<source missing, REPL/exec in use?>\u001b[0m\n",
     "output_type": "error",
     "traceback": [
      "\u001b[0;31m---------------------------------------------------------------------------\u001b[0m",
      "\u001b[0;31mTypingError\u001b[0m                               Traceback (most recent call last)",
      "\u001b[0;32m/var/folders/ds/4lcv95w11y7brm6dqhc04s240000gn/T/ipykernel_46954/55932719.py\u001b[0m in \u001b[0;36m<module>\u001b[0;34m\u001b[0m\n\u001b[1;32m     46\u001b[0m   \u001b[0;32mreturn\u001b[0m \u001b[0mimportant_feature\u001b[0m\u001b[0;34m,\u001b[0m \u001b[0mimportant_feature_value\u001b[0m\u001b[0;34m,\u001b[0m \u001b[0mlowest_percentage\u001b[0m\u001b[0;34m\u001b[0m\u001b[0;34m\u001b[0m\u001b[0m\n\u001b[1;32m     47\u001b[0m \u001b[0;34m\u001b[0m\u001b[0m\n\u001b[0;32m---> 48\u001b[0;31m \u001b[0mfind_important_feature\u001b[0m\u001b[0;34m(\u001b[0m\u001b[0mperx\u001b[0m\u001b[0;34m[\u001b[0m\u001b[0;36m8\u001b[0m\u001b[0;34m]\u001b[0m\u001b[0;34m,\u001b[0m \u001b[0mperx\u001b[0m\u001b[0;34m[\u001b[0m\u001b[0;36m10\u001b[0m\u001b[0;34m]\u001b[0m\u001b[0;34m)\u001b[0m\u001b[0;34m\u001b[0m\u001b[0;34m\u001b[0m\u001b[0m\n\u001b[0m",
      "\u001b[0;32m~/opt/anaconda3/lib/python3.9/site-packages/numba/core/dispatcher.py\u001b[0m in \u001b[0;36m_compile_for_args\u001b[0;34m(self, *args, **kws)\u001b[0m\n\u001b[1;32m    480\u001b[0m                 \u001b[0me\u001b[0m\u001b[0;34m.\u001b[0m\u001b[0mpatch_message\u001b[0m\u001b[0;34m(\u001b[0m\u001b[0mmsg\u001b[0m\u001b[0;34m)\u001b[0m\u001b[0;34m\u001b[0m\u001b[0;34m\u001b[0m\u001b[0m\n\u001b[1;32m    481\u001b[0m \u001b[0;34m\u001b[0m\u001b[0m\n\u001b[0;32m--> 482\u001b[0;31m             \u001b[0merror_rewrite\u001b[0m\u001b[0;34m(\u001b[0m\u001b[0me\u001b[0m\u001b[0;34m,\u001b[0m \u001b[0;34m'typing'\u001b[0m\u001b[0;34m)\u001b[0m\u001b[0;34m\u001b[0m\u001b[0;34m\u001b[0m\u001b[0m\n\u001b[0m\u001b[1;32m    483\u001b[0m         \u001b[0;32mexcept\u001b[0m \u001b[0merrors\u001b[0m\u001b[0;34m.\u001b[0m\u001b[0mUnsupportedError\u001b[0m \u001b[0;32mas\u001b[0m \u001b[0me\u001b[0m\u001b[0;34m:\u001b[0m\u001b[0;34m\u001b[0m\u001b[0;34m\u001b[0m\u001b[0m\n\u001b[1;32m    484\u001b[0m             \u001b[0;31m# Something unsupported is present in the user code, add help info\u001b[0m\u001b[0;34m\u001b[0m\u001b[0;34m\u001b[0m\u001b[0m\n",
      "\u001b[0;32m~/opt/anaconda3/lib/python3.9/site-packages/numba/core/dispatcher.py\u001b[0m in \u001b[0;36merror_rewrite\u001b[0;34m(e, issue_type)\u001b[0m\n\u001b[1;32m    421\u001b[0m                 \u001b[0;32mraise\u001b[0m \u001b[0me\u001b[0m\u001b[0;34m\u001b[0m\u001b[0;34m\u001b[0m\u001b[0m\n\u001b[1;32m    422\u001b[0m             \u001b[0;32melse\u001b[0m\u001b[0;34m:\u001b[0m\u001b[0;34m\u001b[0m\u001b[0;34m\u001b[0m\u001b[0m\n\u001b[0;32m--> 423\u001b[0;31m                 \u001b[0;32mraise\u001b[0m \u001b[0me\u001b[0m\u001b[0;34m.\u001b[0m\u001b[0mwith_traceback\u001b[0m\u001b[0;34m(\u001b[0m\u001b[0;32mNone\u001b[0m\u001b[0;34m)\u001b[0m\u001b[0;34m\u001b[0m\u001b[0;34m\u001b[0m\u001b[0m\n\u001b[0m\u001b[1;32m    424\u001b[0m \u001b[0;34m\u001b[0m\u001b[0m\n\u001b[1;32m    425\u001b[0m         \u001b[0margtypes\u001b[0m \u001b[0;34m=\u001b[0m \u001b[0;34m[\u001b[0m\u001b[0;34m]\u001b[0m\u001b[0;34m\u001b[0m\u001b[0;34m\u001b[0m\u001b[0m\n",
      "\u001b[0;31mTypingError\u001b[0m: Failed in nopython mode pipeline (step: nopython frontend)\n\u001b[1m\u001b[1m\u001b[1mNo implementation of function Function(<built-in function array>) found for signature:\n \n >>> array(array(float64, 2d, C))\n \nThere are 4 candidate implementations:\n\u001b[1m      - Of which 4 did not match due to:\n      Overload in function '_OverloadWrapper._build.<locals>.ol_generated': File: numba/core/overload_glue.py: Line 131.\n        With argument(s): '(array(float64, 2d, C))':\u001b[0m\n\u001b[1m       Rejected as the implementation raised a specific error:\n         TypingError: Failed in nopython mode pipeline (step: nopython frontend)\n       \u001b[1m\u001b[1m\u001b[1mNo implementation of function Function(<intrinsic stub>) found for signature:\n        \n        >>> stub(array(float64, 2d, C))\n        \n       There are 2 candidate implementations:\n       \u001b[1m  - Of which 2 did not match due to:\n         Intrinsic in function 'stub': File: numba/core/overload_glue.py: Line 35.\n           With argument(s): '(array(float64, 2d, C))':\u001b[0m\n       \u001b[1m   Rejected as the implementation raised a specific error:\n            TypingError: \u001b[1marray(float64, 2d, C) not allowed in a homogeneous sequence\u001b[0m\u001b[0m\n         raised from /Users/trancatkhanh/opt/anaconda3/lib/python3.9/site-packages/numba/core/typing/npydecl.py:487\n       \u001b[0m\n       \u001b[0m\u001b[1mDuring: resolving callee type: Function(<intrinsic stub>)\u001b[0m\n       \u001b[0m\u001b[1mDuring: typing of call at <string> (3)\n       \u001b[0m\n       \u001b[1m\n       File \"<string>\", line 3:\u001b[0m\n       \u001b[1m<source missing, REPL/exec in use?>\u001b[0m\n\u001b[0m\n  raised from /Users/trancatkhanh/opt/anaconda3/lib/python3.9/site-packages/numba/core/typeinfer.py:1074\n\u001b[0m\n\u001b[0m\u001b[1mDuring: resolving callee type: Function(<built-in function array>)\u001b[0m\n\u001b[0m\u001b[1mDuring: typing of call at /var/folders/ds/4lcv95w11y7brm6dqhc04s240000gn/T/ipykernel_46954/55932719.py (8)\n\u001b[0m\n\u001b[1m\nFile \"../../../../var/folders/ds/4lcv95w11y7brm6dqhc04s240000gn/T/ipykernel_46954/55932719.py\", line 8:\u001b[0m\n\u001b[1m<source missing, REPL/exec in use?>\u001b[0m\n"
     ]
    }
   ],
   "source": [
    "import numpy as np\n",
    "def find_important_feature(state, reward):\n",
    "  for i in range(len(reward)):\n",
    "      if reward[i] == -1:\n",
    "          for j in range(i,len(reward)):\n",
    "              if reward[j] != -1:\n",
    "                  reward[i] = reward[j]\n",
    "                  break\n",
    "  \n",
    "  n_features = state.shape[1]\n",
    "  feature_count = np.zeros(n_features, dtype=int)\n",
    "  feature_value_count = [{} for _ in range(n_features)]\n",
    "  \n",
    "  for i in range(n_features):    \n",
    "    unique_values, counts = np.unique(state[:, i], return_counts=True)\n",
    "    feature_count[i] = np.sum(counts)\n",
    "    \n",
    "    for value, count in zip(unique_values, counts):\n",
    "      if value not in feature_value_count[i]:\n",
    "        feature_value_count[i][value] = {\"count\": 0, \"reward_count\": 0}\n",
    "        \n",
    "      feature_value_count[i][value][\"count\"] = count\n",
    "      feature_value_count[i][value][\"reward_count\"] = np.sum(reward[state[:, i] == value])\n",
    "  \n",
    "  important_feature = None\n",
    "  important_feature_value = None\n",
    "  lowest_percentage = 1\n",
    "  \n",
    "  for i in range(n_features):\n",
    "    for value, count_data in feature_value_count[i].items():\n",
    "      count = count_data[\"count\"]\n",
    "      reward_count = count_data[\"reward_count\"]\n",
    "      percentage = reward_count / count\n",
    "      \n",
    "      if percentage < lowest_percentage:\n",
    "        lowest_percentage = percentage\n",
    "        important_feature = \"feature_{}\".format(i)\n",
    "        important_feature_value = value\n",
    "  print(important_feature)\n",
    "  print(important_feature_value)\n",
    "  print(lowest_percentage)\n",
    "  return important_feature, important_feature_value, lowest_percentage\n",
    "find_important_feature(perx[8], perx[10])\n"
   ]
  },
  {
   "cell_type": "code",
   "execution_count": null,
   "metadata": {},
   "outputs": [],
   "source": []
  },
  {
   "attachments": {},
   "cell_type": "markdown",
   "metadata": {},
   "source": [
    "# Find the most important value of index in the state that when it appear the policy dont work well\n"
   ]
  },
  {
   "cell_type": "code",
   "execution_count": null,
   "metadata": {},
   "outputs": [],
   "source": [
    "def find_most_importane_feature(perx):\n",
    "    import pandas as pd\n",
    "\n",
    "    df = pd.DataFrame(perx[8])\n",
    "    df['action'] = perx[9]\n",
    "    df['reward'] = perx[10]\n",
    "    for i in range(len(df)):\n",
    "        if df['reward'][i] == -1:\n",
    "            for j in range(i,len(df)):\n",
    "                if df['reward'][j] != -1:\n",
    "                    df['reward'][i] = df['reward'][j]\n",
    "                    break\n",
    "    df = df[df['reward'] != -1]\n",
    "\n",
    "    import pandas as pd\n",
    "    from sklearn.ensemble import RandomForestClassifier\n",
    "\n",
    "    # Load the state-action dataset\n",
    "\n",
    "    # Split the data into features (state properties) and target (outcome)\n",
    "    features = df.drop(\"reward\", axis=1)\n",
    "    target = df[\"reward\"]\n",
    "\n",
    "    # Train a Random Forest Classifier on the data\n",
    "    clf = RandomForestClassifier()\n",
    "    clf.fit(features, target)\n",
    "\n",
    "    # Get the feature importances\n",
    "    importances = clf.feature_importances_\n",
    "\n",
    "    # Find the property (x) of the state that is most important for the policy's performance\n",
    "    x = features.columns[importances.argmax()]\n",
    "    # Plot the top  feature importances \n",
    "    import matplotlib.pyplot as plt\n",
    "    import numpy as np\n",
    "    indices = np.argsort(importances)[::-1]\n",
    "    plt.figure(figsize=(10, 5))\n",
    "    plt.title(\"Feature importances\")\n",
    "    plt.bar(range(features.shape[1]), importances[indices], color=\"r\", align=\"center\")\n",
    "    plt.xticks(range(features.shape[1]), features.columns[indices], rotation=90)\n",
    "    plt.xlim([-1, features.shape[1]])\n",
    "    plt.show()\n",
    "    most_imp_feature = None\n",
    "    lowest_percentage = 100\n",
    "    print('feature importances',x)\n",
    "    for i in df[x].unique():\n",
    "        current_percentage = df[df[x] == i]['reward'].value_counts()[1]/df[df[x] == i]['reward'].value_counts().sum()\n",
    "        if current_percentage < lowest_percentage:\n",
    "            most_imp_feature = i\n",
    "            lowest_percentage = current_percentage\n",
    "\n",
    "    print(\"The value of the most important feature with the lowest percentage of value 1 in reward is:\", most_imp_feature)#  all the below code in one function    \n",
    "    return most_imp_feature\n"
   ]
  }
 ],
 "metadata": {
  "kernelspec": {
   "display_name": "base",
   "language": "python",
   "name": "python3"
  },
  "language_info": {
   "codemirror_mode": {
    "name": "ipython",
    "version": 3
   },
   "file_extension": ".py",
   "mimetype": "text/x-python",
   "name": "python",
   "nbconvert_exporter": "python",
   "pygments_lexer": "ipython3",
   "version": "3.9.7"
  },
  "orig_nbformat": 4,
  "vscode": {
   "interpreter": {
    "hash": "ff2136a0fe6bc790f1b40d257e6b1bba23119827483ea2b7c12c8cc23c661a47"
   }
  }
 },
 "nbformat": 4,
 "nbformat_minor": 2
}
